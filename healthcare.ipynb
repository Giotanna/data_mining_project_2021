{
 "metadata": {
  "language_info": {
   "codemirror_mode": {
    "name": "ipython",
    "version": 3
   },
   "file_extension": ".py",
   "mimetype": "text/x-python",
   "name": "python",
   "nbconvert_exporter": "python",
   "pygments_lexer": "ipython3",
   "version": "3.8.5"
  },
  "orig_nbformat": 2,
  "kernelspec": {
   "name": "python385jvsc74a57bd0916dbcbb3f70747c44a77c7bcd40155683ae19c65e1c03b4aa3499c5328201f1",
   "display_name": "Python 3.8.5 64-bit"
  },
  "metadata": {
   "interpreter": {
    "hash": "916dbcbb3f70747c44a77c7bcd40155683ae19c65e1c03b4aa3499c5328201f1"
   }
  }
 },
 "nbformat": 4,
 "nbformat_minor": 2,
 "cells": [
  {
   "cell_type": "code",
   "execution_count": 39,
   "metadata": {},
   "outputs": [],
   "source": [
    "from pyspark.sql import SparkSession\n",
    "spark = SparkSession.builder.appName('Basics').getOrCreate()\n",
    "\n",
    "import matplotlib.pyplot as plt\n",
    "\n",
    "import pandas as pd\n",
    "\n",
    "from pylab import rcParams\n",
    "from pyspark.sql.functions import avg\n",
    "import pyspark.sql.functions as f\n",
    "import pyspark.sql.functions as F\n",
    "from pyspark.sql.window import Window #***\n",
    "from pyspark.sql.functions import sum\n",
    "from pyspark.sql.functions import format_number\n",
    "\n",
    "\n",
    "df = spark.read.csv('healthcare-dataset-stroke-data.csv', inferSchema=True,header=True)"
   ]
  },
  {
   "cell_type": "code",
   "execution_count": 40,
   "metadata": {},
   "outputs": [
    {
     "output_type": "stream",
     "name": "stdout",
     "text": [
      "+-----+------+----+------------+-------------+------------+-------------+--------------+-----------------+----+---------------+------+\n|   id|gender| age|hypertension|heart_disease|ever_married|    work_type|Residence_type|avg_glucose_level| bmi| smoking_status|stroke|\n+-----+------+----+------------+-------------+------------+-------------+--------------+-----------------+----+---------------+------+\n| 9046|  Male|67.0|           0|            1|         Yes|      Private|         Urban|           228.69|36.6|formerly smoked|     1|\n|51676|Female|61.0|           0|            0|         Yes|Self-employed|         Rural|           202.21| N/A|   never smoked|     1|\n|31112|  Male|80.0|           0|            1|         Yes|      Private|         Rural|           105.92|32.5|   never smoked|     1|\n|60182|Female|49.0|           0|            0|         Yes|      Private|         Urban|           171.23|34.4|         smokes|     1|\n| 1665|Female|79.0|           1|            0|         Yes|Self-employed|         Rural|           174.12|  24|   never smoked|     1|\n|56669|  Male|81.0|           0|            0|         Yes|      Private|         Urban|           186.21|  29|formerly smoked|     1|\n|53882|  Male|74.0|           1|            1|         Yes|      Private|         Rural|            70.09|27.4|   never smoked|     1|\n|10434|Female|69.0|           0|            0|          No|      Private|         Urban|            94.39|22.8|   never smoked|     1|\n|27419|Female|59.0|           0|            0|         Yes|      Private|         Rural|            76.15| N/A|        Unknown|     1|\n|60491|Female|78.0|           0|            0|         Yes|      Private|         Urban|            58.57|24.2|        Unknown|     1|\n|12109|Female|81.0|           1|            0|         Yes|      Private|         Rural|            80.43|29.7|   never smoked|     1|\n|12095|Female|61.0|           0|            1|         Yes|     Govt_job|         Rural|           120.46|36.8|         smokes|     1|\n|12175|Female|54.0|           0|            0|         Yes|      Private|         Urban|           104.51|27.3|         smokes|     1|\n| 8213|  Male|78.0|           0|            1|         Yes|      Private|         Urban|           219.84| N/A|        Unknown|     1|\n| 5317|Female|79.0|           0|            1|         Yes|      Private|         Urban|           214.09|28.2|   never smoked|     1|\n|58202|Female|50.0|           1|            0|         Yes|Self-employed|         Rural|           167.41|30.9|   never smoked|     1|\n|56112|  Male|64.0|           0|            1|         Yes|      Private|         Urban|           191.61|37.5|         smokes|     1|\n|34120|  Male|75.0|           1|            0|         Yes|      Private|         Urban|           221.29|25.8|         smokes|     1|\n|27458|Female|60.0|           0|            0|          No|      Private|         Urban|            89.22|37.8|   never smoked|     1|\n|25226|  Male|57.0|           0|            1|          No|     Govt_job|         Urban|           217.08| N/A|        Unknown|     1|\n+-----+------+----+------------+-------------+------------+-------------+--------------+-----------------+----+---------------+------+\nonly showing top 20 rows\n\n"
     ]
    }
   ],
   "source": [
    "df.show()\n"
   ]
  },
  {
   "cell_type": "code",
   "execution_count": 41,
   "metadata": {},
   "outputs": [
    {
     "output_type": "stream",
     "name": "stdout",
     "text": [
      "+-------+-----------------+------+------------------+------------------+-------------------+------------+---------+--------------+------------------+------------------+--------------+-------------------+\n|summary|               id|gender|               age|      hypertension|      heart_disease|ever_married|work_type|Residence_type| avg_glucose_level|               bmi|smoking_status|             stroke|\n+-------+-----------------+------+------------------+------------------+-------------------+------------+---------+--------------+------------------+------------------+--------------+-------------------+\n|  count|             5110|  5110|              5110|              5110|               5110|        5110|     5110|          5110|              5110|              5110|          5110|               5110|\n|   mean|36517.82935420744|  null|43.226614481409015|0.0974559686888454|0.05401174168297456|        null|     null|          null|106.14767710371804|28.893236911794673|          null| 0.0487279843444227|\n| stddev|21161.72162482715|  null| 22.61264672311348| 0.296606674233791|0.22606298750336554|        null|     null|          null| 45.28356015058193|  7.85406672968016|          null|0.21531985698023753|\n|    min|               67|Female|              0.08|                 0|                  0|          No| Govt_job|         Rural|             55.12|              10.3|       Unknown|                  0|\n|    max|            72940| Other|              82.0|                 1|                  1|         Yes| children|         Urban|            271.74|               N/A|        smokes|                  1|\n+-------+-----------------+------+------------------+------------------+-------------------+------------+---------+--------------+------------------+------------------+--------------+-------------------+\n\n"
     ]
    }
   ],
   "source": [
    "df.describe().show()"
   ]
  },
  {
   "cell_type": "code",
   "execution_count": 42,
   "metadata": {},
   "outputs": [
    {
     "output_type": "stream",
     "name": "stdout",
     "text": [
      "root\n |-- id: integer (nullable = true)\n |-- gender: string (nullable = true)\n |-- age: double (nullable = true)\n |-- hypertension: integer (nullable = true)\n |-- heart_disease: integer (nullable = true)\n |-- ever_married: string (nullable = true)\n |-- work_type: string (nullable = true)\n |-- Residence_type: string (nullable = true)\n |-- avg_glucose_level: double (nullable = true)\n |-- bmi: string (nullable = true)\n |-- smoking_status: string (nullable = true)\n |-- stroke: integer (nullable = true)\n\n"
     ]
    }
   ],
   "source": [
    "df.printSchema()"
   ]
  },
  {
   "cell_type": "code",
   "execution_count": 43,
   "metadata": {},
   "outputs": [
    {
     "output_type": "stream",
     "name": "stdout",
     "text": [
      "+------+------------------+------------------+-------------------+-------------------+----------------------+-----------+\n|stroke|           avg(id)|          avg(age)|  avg(hypertension)| avg(heart_disease)|avg(avg_glucose_level)|avg(stroke)|\n+------+------------------+------------------+-------------------+-------------------+----------------------+-----------+\n|     1| 37115.06827309237| 67.72819277108434|0.26506024096385544|0.18875502008032127|    132.54473895582322|        1.0|\n|     0|36487.236371117055|41.971544949598865|0.08887060275663444|0.04710964822053076|    104.79551326887444|        0.0|\n+------+------------------+------------------+-------------------+-------------------+----------------------+-----------+\n\n"
     ]
    }
   ],
   "source": [
    "   #*******************\n",
    "   df.groupBy('stroke').mean().show()"
   ]
  },
  {
   "cell_type": "code",
   "execution_count": 44,
   "metadata": {},
   "outputs": [
    {
     "output_type": "stream",
     "name": "stdout",
     "text": [
      "+------+-----+\n|stroke|count|\n+------+-----+\n|     1|  249|\n|     0| 4861|\n+------+-----+\n\n"
     ]
    }
   ],
   "source": [
    "#count people that have a stroke\n",
    "df1 = df.groupBy('stroke').count()\n",
    "df1.show()"
   ]
  },
  {
   "cell_type": "code",
   "execution_count": 45,
   "metadata": {},
   "outputs": [
    {
     "output_type": "stream",
     "name": "stdout",
     "text": [
      "+-------------+-----------------------+\n|    work_type|percentage_of_work_type|\n+-------------+-----------------------+\n|     children|                   0.04|\n|     Govt_job|                   0.65|\n|Self-employed|                   1.27|\n|      Private|                   2.92|\n+-------------+-----------------------+\n\n"
     ]
    }
   ],
   "source": [
    "#influence of work type on getting stroke\n",
    "#more private\n",
    "df_work_type_stroke = df.groupBy('work_type', 'stroke').count().select('stroke','work_type',f.col('count').alias('work_type_count')).withColumn('percentage_of_work_type',(f.col('work_type_count') / df.count()) * 100 ).filter(df['stroke'] == 1).select('work_type',(format_number('percentage_of_work_type',2).alias('percentage_of_work_type'))).orderBy('work_type_count')\n",
    "\n",
    "\n",
    "df_work_type_stroke.show()"
   ]
  },
  {
   "cell_type": "code",
   "execution_count": 46,
   "metadata": {},
   "outputs": [
    {
     "output_type": "stream",
     "name": "stdout",
     "text": [
      "+------+-------------+-----------------------+\n|gender|    work_type|percentage_of_work_type|\n+------+-------------+-----------------------+\n|Female|     Govt_job|                   0.45|\n|  Male|     Govt_job|                   0.20|\n|  Male|      Private|                   1.43|\n|Female|      Private|                   1.49|\n|  Male|Self-employed|                   0.49|\n|Female|Self-employed|                   0.78|\n|Female|     children|                   0.04|\n+------+-------------+-----------------------+\n\n"
     ]
    }
   ],
   "source": [
    "#influence of work type on getting stroke and gender\n",
    "#more women in general and women in private\n",
    "df_work_stroke_gender = df.groupBy('gender','work_type','stroke').count().select('gender','stroke','work_type',f.col('count').alias('work_type_count')).withColumn('percentage_of_work_type',(f.col('work_type_count') / df.count()) * 100 ).filter(df['stroke'] == 1).select('gender','work_type',(format_number('percentage_of_work_type',2).alias('percentage_of_work_type'))).orderBy('work_type')\n",
    "\n",
    "\n",
    "df_work_stroke_gender.show()"
   ]
  },
  {
   "cell_type": "code",
   "execution_count": 47,
   "metadata": {},
   "outputs": [
    {
     "output_type": "stream",
     "name": "stdout",
     "text": [
      "+-------------+-------------------------+\n|    work_type|percentage_of_work_over50|\n+-------------+-------------------------+\n|Self-employed|                     1.19|\n|      Private|                     2.60|\n|     Govt_job|                     0.63|\n+-------------+-------------------------+\n\n"
     ]
    }
   ],
   "source": [
    "#influence of work type on getting stroke over 50  *******************************************\n",
    "#more private\n",
    "\n",
    "df_work_age = df.select('age','work_type','stroke').filter((df['stroke'] == 1) & (df['age'] > '50')).groupBy('work_type').count().withColumn('percentage_of_work_over50',(f.col('count') / df.count()) * 100 ).select('work_type',(format_number('percentage_of_work_over50',2).alias('percentage_of_work_over50'))) \n",
    "\n",
    "df_work_age.show()"
   ]
  },
  {
   "cell_type": "code",
   "execution_count": 48,
   "metadata": {},
   "outputs": [
    {
     "output_type": "stream",
     "name": "stdout",
     "text": [
      "+------+------------+--------------------+\n|gender|count_gender|percentage_of_gender|\n+------+------------+--------------------+\n| Other|           1|                0.02|\n|  Male|        2115|               41.39|\n|Female|        2994|               58.59|\n+------+------------+--------------------+\n\n"
     ]
    }
   ],
   "source": [
    "#participated in this clinic measurement\n",
    "#58% Female. 41% Male\n",
    "df_mes = df.groupBy('gender').count().select('gender',f.col('count').alias('count_gender')).withColumn('percentage_of_gender',(f.col('count_gender') / df.count()) * 100 ).select('gender','count_gender',(format_number('percentage_of_gender',2).alias('percentage_of_gender'))).orderBy('count_gender')\n",
    "\n",
    "df_mes.show()"
   ]
  },
  {
   "cell_type": "code",
   "execution_count": 49,
   "metadata": {},
   "outputs": [
    {
     "output_type": "stream",
     "name": "stdout",
     "text": [
      "+------+------------+--------------------+\n",
      "|gender|count_gender|percentage_of_stroke|\n",
      "+------+------------+--------------------+\n",
      "|  Male|         108|                2.11|\n",
      "+------+------------+--------------------+\n",
      "\n",
      "+------+------------+--------------------+\n",
      "|gender|count_gender|percentage_of_stroke|\n",
      "+------+------------+--------------------+\n",
      "|Female|         141|                2.76|\n",
      "+------+------------+--------------------+\n",
      "\n"
     ]
    }
   ],
   "source": [
    "# how many female/male have a stroke\n",
    "# 2,11% Male. 2,76% Female\n",
    "df_gen_str_M = df.groupBy('gender', 'stroke').count().select('gender',f.col('count').alias('count_gender')).withColumn('percentage_of_stroke',(f.col('count_gender') / df.count()) * 100 ).filter((df['stroke'] == 1) & (df['gender'] == 'Male')).select('gender','count_gender',(format_number('percentage_of_stroke',2).alias('percentage_of_stroke')))\n",
    "\n",
    "df_gen_str_M.show()\n",
    "\n",
    "df_gen_str_F = df.groupBy('gender', 'stroke').count().select('gender',f.col('count').alias('count_gender')).withColumn('percentage_of_stroke',(f.col('count_gender') / df.count()) * 100 ).filter((df['stroke'] == 1) & (df['gender'] == 'Female')).select('gender','count_gender',(format_number('percentage_of_stroke',2).alias('percentage_of_stroke')))\n",
    "\n",
    "df_gen_str_F.show()"
   ]
  },
  {
   "cell_type": "code",
   "execution_count": 50,
   "metadata": {},
   "outputs": [
    {
     "output_type": "stream",
     "name": "stdout",
     "text": [
      "+------+------------+--------------------+\n|gender|count_gender|percentage_of_stroke|\n+------+------------+--------------------+\n|Female|          19|                0.37|\n|  Male|          28|                0.55|\n+------+------------+--------------------+\n\n"
     ]
    }
   ],
   "source": [
    "#people have heart disease and stroke\n",
    "df_stroke_heartdisease = df.groupBy('gender', 'stroke', 'heart_disease').count().select('gender',f.col('count').alias('count_gender')).withColumn('percentage_of_stroke',(f.col('count_gender') / df.count()) * 100 ).filter((df['stroke'] == 1) & (df['heart_disease'] == '1')).select('gender','count_gender',(format_number('percentage_of_stroke',2).alias('percentage_of_stroke'))).orderBy('count_gender')\n",
    "\n",
    "df_stroke_heartdisease.show()"
   ]
  },
  {
   "cell_type": "code",
   "execution_count": 51,
   "metadata": {},
   "outputs": [
    {
     "output_type": "stream",
     "name": "stdout",
     "text": [
      "+------+------------+--------------------+\n|gender|count_gender|percentage_of_stroke|\n+------+------------+--------------------+\n|  Male|          27|                0.53|\n|Female|          39|                0.76|\n+------+------------+--------------------+\n\n"
     ]
    }
   ],
   "source": [
    "#people have hypertension and stroke\n",
    "df_stroke_hypertension = df.groupBy('gender', 'stroke', 'hypertension').count().select('gender',f.col('count').alias('count_gender')).withColumn('percentage_of_stroke',(f.col('count_gender') / df.count()) * 100 ).filter((df['stroke'] == 1) & (df['hypertension'] == '1')).select('gender','count_gender',(format_number('percentage_of_stroke',2).alias('percentage_of_stroke'))).orderBy('count_gender')\n",
    "\n",
    "df_stroke_hypertension.show()"
   ]
  },
  {
   "cell_type": "code",
   "execution_count": 52,
   "metadata": {},
   "outputs": [
    {
     "output_type": "stream",
     "name": "stdout",
     "text": [
      "+------+------------+--------------------+\n|gender|count_gender|percentage_of_stroke|\n+------+------------+--------------------+\n|Female|           7|                0.14|\n|  Male|           6|                0.12|\n+------+------------+--------------------+\n\n"
     ]
    }
   ],
   "source": [
    "#people have heart disease and hypertension and stroke\n",
    "df_stroke_heartd_hyperd = df.groupBy('gender', 'stroke', 'heart_disease','hypertension').count().select('gender',f.col('count').alias('count_gender')).withColumn('percentage_of_stroke',(f.col('count_gender') / df.count()) * 100 ).filter((df['stroke'] == 1) & (df['heart_disease'] == '1') & (df['hypertension'] == '1')).select('gender','count_gender',(format_number('percentage_of_stroke',2).alias('percentage_of_stroke')))\n",
    "\n",
    "df_stroke_heartd_hyperd.show()"
   ]
  },
  {
   "cell_type": "code",
   "execution_count": 53,
   "metadata": {},
   "outputs": [
    {
     "output_type": "stream",
     "name": "stdout",
     "text": [
      "+---------------+--------------------+--------------------+\n| smoking_status|count_smoking_status|percentage_of_stroke|\n+---------------+--------------------+--------------------+\n|         smokes|                  42|                0.82|\n|        Unknown|                  47|                0.92|\n|formerly smoked|                  70|                1.37|\n|   never smoked|                  90|                1.76|\n+---------------+--------------------+--------------------+\n\n"
     ]
    }
   ],
   "source": [
    "#influence of smoking_status on getting stroke\n",
    "df_stroke_smoking= df.groupBy('smoking_status', 'stroke').count().select('smoking_status',f.col('count').alias('count_smoking_status')).withColumn('percentage_of_stroke',(f.col('count_smoking_status') / df.count()) * 100 ).filter((df['stroke'] == 1)).select('smoking_status','count_smoking_status',(format_number('percentage_of_stroke',2).alias('percentage_of_stroke'))).orderBy('count_smoking_status')\n",
    "\n",
    "df_stroke_smoking.show()"
   ]
  },
  {
   "cell_type": "code",
   "execution_count": 54,
   "metadata": {},
   "outputs": [
    {
     "output_type": "stream",
     "name": "stdout",
     "text": [
      "+---------------+--------------------+---------------------------+\n| smoking_status|count_smoking_status|percentage_of_stroke_Female|\n+---------------+--------------------+---------------------------+\n|         smokes|                  19|                       0.37|\n|        Unknown|                  25|                       0.49|\n|formerly smoked|                  34|                       0.67|\n|   never smoked|                  63|                       1.23|\n+---------------+--------------------+---------------------------+\n\n"
     ]
    }
   ],
   "source": [
    "#influence of smoking_status  and gender\n",
    "df_stroke_smoking_Female= df.groupBy('smoking_status', 'stroke', 'gender').count().select('gender','smoking_status',f.col('count').alias('count_smoking_status')).withColumn('percentage_of_stroke',(f.col('count_smoking_status') / df.count()) * 100 ).filter((df['stroke'] == 1) & (df['gender'] == 'Female')).select('smoking_status','count_smoking_status',(format_number('percentage_of_stroke',2).alias('percentage_of_stroke_Female'))).orderBy('count_smoking_status')\n",
    "\n",
    "df_stroke_smoking_Female.show()"
   ]
  },
  {
   "cell_type": "code",
   "execution_count": 55,
   "metadata": {},
   "outputs": [
    {
     "output_type": "stream",
     "name": "stdout",
     "text": [
      "+---------------+--------------------+-------------------------+\n| smoking_status|count_smoking_status|percentage_of_stroke_Male|\n+---------------+--------------------+-------------------------+\n|        Unknown|                  22|                     0.43|\n|         smokes|                  23|                     0.45|\n|   never smoked|                  27|                     0.53|\n|formerly smoked|                  36|                     0.70|\n+---------------+--------------------+-------------------------+\n\n"
     ]
    }
   ],
   "source": [
    "#influence of smoking_status on getting stroke\n",
    "df_stroke_smoking_Male= df.groupBy('smoking_status', 'stroke', 'gender').count().select('gender','smoking_status',f.col('count').alias('count_smoking_status')).withColumn('percentage_of_stroke',(f.col('count_smoking_status') / df.count()) * 100 ).filter((df['stroke'] == 1) & (df['gender'] == 'Male')).select('smoking_status','count_smoking_status',(format_number('percentage_of_stroke',2).alias('percentage_of_stroke_Male'))).orderBy('count_smoking_status')\n",
    "df_stroke_smoking_Male.show()"
   ]
  },
  {
   "cell_type": "code",
   "execution_count": 56,
   "metadata": {},
   "outputs": [
    {
     "output_type": "stream",
     "name": "stdout",
     "text": [
      "+--------------+--------------------+--------------------+\n|Residence_type|count_Residence_type|percentage_of_stroke|\n+--------------+--------------------+--------------------+\n|         Rural|                 114|                2.23|\n|         Urban|                 135|                2.64|\n+--------------+--------------------+--------------------+\n\n"
     ]
    }
   ],
   "source": [
    "#influence of Residence_type on getting stroke \n",
    "df_stroke_restype= df.groupBy('Residence_type', 'stroke').count().select('Residence_type',f.col('count').alias('count_Residence_type')).withColumn('percentage_of_stroke',(f.col('count_Residence_type') / df.count()) * 100 ).filter((df['stroke'] == 1)).select('Residence_type','count_Residence_type',(format_number('percentage_of_stroke',2).alias('percentage_of_stroke'))).orderBy('count_Residence_type')\n",
    "\n",
    "df_stroke_restype.show()"
   ]
  },
  {
   "cell_type": "code",
   "execution_count": 57,
   "metadata": {},
   "outputs": [
    {
     "output_type": "stream",
     "name": "stdout",
     "text": [
      "+------------+------------------+--------------------+\n|ever_married|count_ever_married|percentage_of_stroke|\n+------------+------------------+--------------------+\n|          No|                29|                0.57|\n|         Yes|               220|                4.31|\n+------------+------------------+--------------------+\n\n"
     ]
    }
   ],
   "source": [
    "#influence of ever_married on getting stroke\n",
    "#if married more influence on getting stroke\n",
    "df_stroke_ever_married= df.groupBy('ever_married', 'stroke').count().select('ever_married',f.col('count').alias('count_ever_married')).withColumn('percentage_of_stroke',(f.col('count_ever_married') / df.count()) * 100 ).filter((df['stroke'] == 1)).select('ever_married','count_ever_married',(format_number('percentage_of_stroke',2).alias('percentage_of_stroke'))).orderBy('count_ever_married')\n",
    "\n",
    "df_stroke_ever_married.show()"
   ]
  },
  {
   "cell_type": "code",
   "execution_count": 58,
   "metadata": {},
   "outputs": [
    {
     "output_type": "stream",
     "name": "stdout",
     "text": [
      "+------+------------+------------------+--------------------+\n|gender|ever_married|count_ever_married|percentage_of_stroke|\n+------+------------+------------------+--------------------+\n|  Male|          No|                 8|                0.16|\n|Female|          No|                21|                0.41|\n|  Male|         Yes|               100|                1.96|\n|Female|         Yes|               120|                2.35|\n+------+------------+------------------+--------------------+\n\n"
     ]
    }
   ],
   "source": [
    "#influence of ever_married on getting stroke by gender (general Female are at risk to have a stoke)\n",
    "df_stroke_ever_married= df.groupBy('gender','ever_married', 'stroke').count().select('gender','ever_married',f.col('count').alias('count_ever_married')).withColumn('percentage_of_stroke',(f.col('count_ever_married') / df.count()) * 100 ).filter((df['stroke'] == 1)).select('gender','ever_married','count_ever_married',(format_number('percentage_of_stroke',2).alias('percentage_of_stroke'))).orderBy('count_ever_married')\n",
    "\n",
    "df_stroke_ever_married.show()\n"
   ]
  },
  {
   "cell_type": "code",
   "execution_count": 59,
   "metadata": {},
   "outputs": [
    {
     "output_type": "stream",
     "name": "stdout",
     "text": [
      "+------------+------------------------+\n|hypertension|percentage_of_hyp_over50|\n+------------+------------------------+\n|           1|                    1.23|\n|           0|                    3.19|\n+------------+------------------------+\n\n"
     ]
    }
   ],
   "source": [
    "#people have hypertension and stroke and over 50 or dont have hypertension\n",
    "df_hyp_age = df.select('age','hypertension','stroke').filter((df['stroke'] == 1) & (df['age'] > '50')).groupBy('hypertension').count().withColumn('percentage_of_hyp_over50',(f.col('count') / df.count()) * 100 ).select('hypertension',(format_number('percentage_of_hyp_over50',2).alias('percentage_of_hyp_over50'))) \n",
    "\n",
    "df_hyp_age.show()\n",
    "\n",
    "\n"
   ]
  },
  {
   "cell_type": "code",
   "execution_count": 60,
   "metadata": {},
   "outputs": [
    {
     "output_type": "stream",
     "name": "stdout",
     "text": [
      "+-------------+--------------------------+\n|heart_disease|percentage_of_heart_over50|\n+-------------+--------------------------+\n|            1|                      0.92|\n|            0|                      3.50|\n+-------------+--------------------------+\n\n"
     ]
    }
   ],
   "source": [
    "#people have heart_disease and stroke and over 50 or dont have heart_disease\n",
    "df_heart_age = df.select('age','heart_disease','stroke').filter((df['stroke'] == 1) & (df['age'] > '50')).groupBy('heart_disease').count().withColumn('percentage_of_heart_over50',(f.col('count') / df.count()) * 100 ).select('heart_disease',(format_number('percentage_of_heart_over50',2).alias('percentage_of_heart_over50'))) \n",
    "\n",
    "df_heart_age.show()"
   ]
  },
  {
   "cell_type": "code",
   "execution_count": 61,
   "metadata": {},
   "outputs": [
    {
     "output_type": "execute_result",
     "data": {
      "text/plain": [
       "226"
      ]
     },
     "metadata": {},
     "execution_count": 61
    }
   ],
   "source": [
    "#people have a troke over 50\n",
    "df.filter((df['stroke'] == 1) & (df['age'] > '50')).count()\n"
   ]
  },
  {
   "cell_type": "code",
   "execution_count": 62,
   "metadata": {},
   "outputs": [
    {
     "output_type": "execute_result",
     "data": {
      "text/plain": [
       "4.422700587084149"
      ]
     },
     "metadata": {},
     "execution_count": 62
    }
   ],
   "source": [
    "#percentage person over 50 that have stroke\n",
    "#4.4 %\n",
    "df_age_per = ((df.filter((df['stroke'] == 1) & (df['age'] > '50')).count() ) / df.count() ) * 100 \n",
    "df_age_per"
   ]
  },
  {
   "cell_type": "code",
   "execution_count": 63,
   "metadata": {},
   "outputs": [
    {
     "output_type": "execute_result",
     "data": {
      "text/plain": [
       "249"
      ]
     },
     "metadata": {},
     "execution_count": 63
    }
   ],
   "source": [
    "#people have a stroke\n",
    "df.filter((df['stroke'] == 1)).count()"
   ]
  },
  {
   "cell_type": "code",
   "execution_count": 64,
   "metadata": {},
   "outputs": [
    {
     "output_type": "execute_result",
     "data": {
      "text/plain": [
       "4.87279843444227"
      ]
     },
     "metadata": {},
     "execution_count": 64
    }
   ],
   "source": [
    "#percentage person that have stroke\n",
    "#0.39 %\n",
    "df_age_per1 = ((df.filter((df['stroke'] == 1)).count() ) / df.count() ) * 100 \n",
    "df_age_per1"
   ]
  },
  {
   "cell_type": "code",
   "execution_count": 65,
   "metadata": {},
   "outputs": [
    {
     "output_type": "stream",
     "name": "stdout",
     "text": [
      "+------+------------------+------------------+----------------------+\n|stroke|          avg(bmi)|          avg(age)|avg(avg_glucose_level)|\n+------+------------------+------------------+----------------------+\n|     1| 30.47129186602871| 67.72819277108434|    132.54473895582322|\n|     0|28.823063829787245|41.971544949598865|    104.79551326887444|\n+------+------------------+------------------+----------------------+\n\n"
     ]
    }
   ],
   "source": [
    "\n",
    "df_avg = df.groupBy(\"stroke\").agg(F.mean('bmi'), F.mean('age'), F.mean('avg_glucose_level'))\n",
    "df_avg.show()"
   ]
  },
  {
   "cell_type": "code",
   "execution_count": 66,
   "metadata": {},
   "outputs": [
    {
     "output_type": "stream",
     "name": "stdout",
     "text": [
      "+---+------+---+------------+-------------+------------+---------+--------------+-----------------+---+--------------+------+\n| id|gender|age|hypertension|heart_disease|ever_married|work_type|Residence_type|avg_glucose_level|bmi|smoking_status|stroke|\n+---+------+---+------------+-------------+------------+---------+--------------+-----------------+---+--------------+------+\n|  0|     0|  0|           0|            0|           0|        0|             0|                0|201|          1544|     0|\n+---+------+---+------------+-------------+------------+---------+--------------+-----------------+---+--------------+------+\n\n"
     ]
    }
   ],
   "source": [
    "#remove columns with missing values\n",
    "\n",
    "\n",
    "from pyspark.sql.functions import col\n",
    "myDF = df.select([F.count(F.when(F.isnan(i) | \\\n",
    "                                   F.col(i).contains('N/A') | \\\n",
    "                                   F.col(i).contains('Unknown') | \\\n",
    "                                   F.col(i).isNull(), i)).alias(i) \\\n",
    "                    for i in df.columns])\n",
    "\n",
    "\n",
    "\n",
    "myDF.show()"
   ]
  },
  {
   "cell_type": "code",
   "execution_count": 67,
   "metadata": {},
   "outputs": [
    {
     "output_type": "stream",
     "name": "stdout",
     "text": [
      "root\n |-- id: integer (nullable = true)\n |-- gender: string (nullable = true)\n |-- age: double (nullable = true)\n |-- hypertension: integer (nullable = true)\n |-- heart_disease: integer (nullable = true)\n |-- ever_married: string (nullable = true)\n |-- work_type: string (nullable = true)\n |-- Residence_type: string (nullable = true)\n |-- avg_glucose_level: double (nullable = true)\n |-- stroke: integer (nullable = true)\n\n"
     ]
    }
   ],
   "source": [
    "df_remCol = df.drop(\"bmi\",\"smoking_status\")\n",
    "df_remCol.printSchema()"
   ]
  },
  {
   "cell_type": "code",
   "execution_count": 68,
   "metadata": {},
   "outputs": [
    {
     "output_type": "execute_result",
     "data": {
      "text/plain": [
       "Row(avg(bmi)=28.893236911794673)"
      ]
     },
     "metadata": {},
     "execution_count": 68
    }
   ],
   "source": [
    "#complete missing values with avg of the column \n",
    "\n",
    "#the average of the column\n",
    "df.agg({'bmi': 'avg'}).collect()[0][0]\n"
   ]
  },
  {
   "cell_type": "code",
   "execution_count": 69,
   "metadata": {},
   "outputs": [
    {
     "output_type": "stream",
     "name": "stdout",
     "text": [
      "+-----+------+----+------------+-------------+------------+-------------+--------------+-----------------+-----+------+\n|   id|gender| age|hypertension|heart_disease|ever_married|    work_type|Residence_type|avg_glucose_level|  bmi|stroke|\n+-----+------+----+------------+-------------+------------+-------------+--------------+-----------------+-----+------+\n| 9046|  Male|67.0|           0|            1|         Yes|      Private|         Urban|           228.69| 36.6|     1|\n|51676|Female|61.0|           0|            0|         Yes|Self-employed|         Rural|           202.21|28.89|     1|\n|31112|  Male|80.0|           0|            1|         Yes|      Private|         Rural|           105.92| 32.5|     1|\n|60182|Female|49.0|           0|            0|         Yes|      Private|         Urban|           171.23| 34.4|     1|\n| 1665|Female|79.0|           1|            0|         Yes|Self-employed|         Rural|           174.12|   24|     1|\n|56669|  Male|81.0|           0|            0|         Yes|      Private|         Urban|           186.21|   29|     1|\n|53882|  Male|74.0|           1|            1|         Yes|      Private|         Rural|            70.09| 27.4|     1|\n|10434|Female|69.0|           0|            0|          No|      Private|         Urban|            94.39| 22.8|     1|\n|27419|Female|59.0|           0|            0|         Yes|      Private|         Rural|            76.15|28.89|     1|\n|60491|Female|78.0|           0|            0|         Yes|      Private|         Urban|            58.57| 24.2|     1|\n|12109|Female|81.0|           1|            0|         Yes|      Private|         Rural|            80.43| 29.7|     1|\n|12095|Female|61.0|           0|            1|         Yes|     Govt_job|         Rural|           120.46| 36.8|     1|\n|12175|Female|54.0|           0|            0|         Yes|      Private|         Urban|           104.51| 27.3|     1|\n| 8213|  Male|78.0|           0|            1|         Yes|      Private|         Urban|           219.84|28.89|     1|\n| 5317|Female|79.0|           0|            1|         Yes|      Private|         Urban|           214.09| 28.2|     1|\n|58202|Female|50.0|           1|            0|         Yes|Self-employed|         Rural|           167.41| 30.9|     1|\n|56112|  Male|64.0|           0|            1|         Yes|      Private|         Urban|           191.61| 37.5|     1|\n|34120|  Male|75.0|           1|            0|         Yes|      Private|         Urban|           221.29| 25.8|     1|\n|27458|Female|60.0|           0|            0|          No|      Private|         Urban|            89.22| 37.8|     1|\n|25226|  Male|57.0|           0|            1|          No|     Govt_job|         Urban|           217.08|28.89|     1|\n+-----+------+----+------------+-------------+------------+-------------+--------------+-----------------+-----+------+\nonly showing top 20 rows\n\n5110\n5110\n"
     ]
    }
   ],
   "source": [
    "# the completed data with column smoking status\n",
    "df_replace = df.na.replace(['N/A'],['28.89'])\n",
    "#the data without column smoking status \n",
    "df_replace = df_replace.drop(\"smoking_status\")\n",
    "df_replace.show()\n",
    "print(df.count())\n",
    "print(df_replace.count())"
   ]
  },
  {
   "cell_type": "code",
   "execution_count": null,
   "metadata": {},
   "outputs": [],
   "source": []
  }
 ]
}