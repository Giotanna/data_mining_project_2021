{
 "metadata": {
  "language_info": {
   "codemirror_mode": {
    "name": "ipython",
    "version": 3
   },
   "file_extension": ".py",
   "mimetype": "text/x-python",
   "name": "python",
   "nbconvert_exporter": "python",
   "pygments_lexer": "ipython3",
   "version": "3.8.5-final"
  },
  "orig_nbformat": 2,
  "kernelspec": {
   "name": "python38564bit3a9aaef6a7c347cd881bbd77437f2a07",
   "display_name": "Python 3.8.5 64-bit",
   "language": "python"
  }
 },
 "nbformat": 4,
 "nbformat_minor": 2,
 "cells": [
  {
   "cell_type": "code",
   "execution_count": 1,
   "metadata": {},
   "outputs": [],
   "source": [
    "from pyspark.sql import SparkSession\n",
    "spark = SparkSession.builder.appName('Basics').getOrCreate()\n",
    "\n",
    "import matplotlib.pyplot as plt\n",
    "import seaborn as sns\n",
    "import pandas as pd\n",
    "\n",
    "from pylab import rcParams\n",
    "from pyspark.sql.functions import avg\n",
    "import pyspark.sql.functions as f\n",
    "from pyspark.sql.window import Window #***\n",
    "from pyspark.sql.functions import sum\n",
    "from pyspark.sql.functions import format_number\n",
    "\n",
    "\n",
    "df = spark.read.csv('/home/giotanna/Documents/DM_project_2021/healthcare-dataset-stroke-data/healthcare-dataset-stroke-data.csv', inferSchema=True,header=True)"
   ]
  },
  {
   "cell_type": "code",
   "execution_count": 2,
   "metadata": {},
   "outputs": [
    {
     "output_type": "stream",
     "name": "stdout",
     "text": [
      "+-----+------+----+------------+-------------+------------+-------------+--------------+-----------------+----+---------------+------+\n|   id|gender| age|hypertension|heart_disease|ever_married|    work_type|Residence_type|avg_glucose_level| bmi| smoking_status|stroke|\n+-----+------+----+------------+-------------+------------+-------------+--------------+-----------------+----+---------------+------+\n| 9046|  Male|67.0|           0|            1|         Yes|      Private|         Urban|           228.69|36.6|formerly smoked|     1|\n|51676|Female|61.0|           0|            0|         Yes|Self-employed|         Rural|           202.21| N/A|   never smoked|     1|\n|31112|  Male|80.0|           0|            1|         Yes|      Private|         Rural|           105.92|32.5|   never smoked|     1|\n|60182|Female|49.0|           0|            0|         Yes|      Private|         Urban|           171.23|34.4|         smokes|     1|\n| 1665|Female|79.0|           1|            0|         Yes|Self-employed|         Rural|           174.12|  24|   never smoked|     1|\n|56669|  Male|81.0|           0|            0|         Yes|      Private|         Urban|           186.21|  29|formerly smoked|     1|\n|53882|  Male|74.0|           1|            1|         Yes|      Private|         Rural|            70.09|27.4|   never smoked|     1|\n|10434|Female|69.0|           0|            0|          No|      Private|         Urban|            94.39|22.8|   never smoked|     1|\n|27419|Female|59.0|           0|            0|         Yes|      Private|         Rural|            76.15| N/A|        Unknown|     1|\n|60491|Female|78.0|           0|            0|         Yes|      Private|         Urban|            58.57|24.2|        Unknown|     1|\n|12109|Female|81.0|           1|            0|         Yes|      Private|         Rural|            80.43|29.7|   never smoked|     1|\n|12095|Female|61.0|           0|            1|         Yes|     Govt_job|         Rural|           120.46|36.8|         smokes|     1|\n|12175|Female|54.0|           0|            0|         Yes|      Private|         Urban|           104.51|27.3|         smokes|     1|\n| 8213|  Male|78.0|           0|            1|         Yes|      Private|         Urban|           219.84| N/A|        Unknown|     1|\n| 5317|Female|79.0|           0|            1|         Yes|      Private|         Urban|           214.09|28.2|   never smoked|     1|\n|58202|Female|50.0|           1|            0|         Yes|Self-employed|         Rural|           167.41|30.9|   never smoked|     1|\n|56112|  Male|64.0|           0|            1|         Yes|      Private|         Urban|           191.61|37.5|         smokes|     1|\n|34120|  Male|75.0|           1|            0|         Yes|      Private|         Urban|           221.29|25.8|         smokes|     1|\n|27458|Female|60.0|           0|            0|          No|      Private|         Urban|            89.22|37.8|   never smoked|     1|\n|25226|  Male|57.0|           0|            1|          No|     Govt_job|         Urban|           217.08| N/A|        Unknown|     1|\n+-----+------+----+------------+-------------+------------+-------------+--------------+-----------------+----+---------------+------+\nonly showing top 20 rows\n\n"
     ]
    }
   ],
   "source": [
    "df.show()\n"
   ]
  },
  {
   "cell_type": "code",
   "execution_count": 3,
   "metadata": {},
   "outputs": [
    {
     "output_type": "stream",
     "name": "stdout",
     "text": [
      "+-------+-----------------+------+------------------+------------------+-------------------+------------+---------+--------------+------------------+------------------+--------------+-------------------+\n|summary|               id|gender|               age|      hypertension|      heart_disease|ever_married|work_type|Residence_type| avg_glucose_level|               bmi|smoking_status|             stroke|\n+-------+-----------------+------+------------------+------------------+-------------------+------------+---------+--------------+------------------+------------------+--------------+-------------------+\n|  count|             5110|  5110|              5110|              5110|               5110|        5110|     5110|          5110|              5110|              5110|          5110|               5110|\n|   mean|36517.82935420744|  null|43.226614481409015|0.0974559686888454|0.05401174168297456|        null|     null|          null|106.14767710371804|28.893236911794673|          null| 0.0487279843444227|\n| stddev|21161.72162482715|  null| 22.61264672311348| 0.296606674233791|0.22606298750336554|        null|     null|          null| 45.28356015058193|  7.85406672968016|          null|0.21531985698023753|\n|    min|               67|Female|              0.08|                 0|                  0|          No| Govt_job|         Rural|             55.12|              10.3|       Unknown|                  0|\n|    max|            72940| Other|              82.0|                 1|                  1|         Yes| children|         Urban|            271.74|               N/A|        smokes|                  1|\n+-------+-----------------+------+------------------+------------------+-------------------+------------+---------+--------------+------------------+------------------+--------------+-------------------+\n\n"
     ]
    }
   ],
   "source": [
    "df.describe().show()"
   ]
  },
  {
   "cell_type": "code",
   "execution_count": 4,
   "metadata": {},
   "outputs": [
    {
     "output_type": "stream",
     "name": "stdout",
     "text": [
      "root\n |-- id: integer (nullable = true)\n |-- gender: string (nullable = true)\n |-- age: double (nullable = true)\n |-- hypertension: integer (nullable = true)\n |-- heart_disease: integer (nullable = true)\n |-- ever_married: string (nullable = true)\n |-- work_type: string (nullable = true)\n |-- Residence_type: string (nullable = true)\n |-- avg_glucose_level: double (nullable = true)\n |-- bmi: string (nullable = true)\n |-- smoking_status: string (nullable = true)\n |-- stroke: integer (nullable = true)\n\n"
     ]
    }
   ],
   "source": [
    "df.printSchema()"
   ]
  },
  {
   "cell_type": "code",
   "execution_count": 5,
   "metadata": {},
   "outputs": [
    {
     "output_type": "stream",
     "name": "stdout",
     "text": [
      "+------+-----------------+-----------------+-------------------+-------------------+----------------------+--------------------+\n|gender|          avg(id)|         avg(age)|  avg(hypertension)| avg(heart_disease)|avg(avg_glucose_level)|         avg(stroke)|\n+------+-----------------+-----------------+-------------------+-------------------+----------------------+--------------------+\n|Female|36479.68503674015|43.75739478957918|0.09218436873747494|0.03774215096860387|    104.05780895123563|0.047094188376753505|\n| Other|          56156.0|             26.0|                0.0|                0.0|                143.33|                 0.0|\n|  Male|36562.54137115839|42.48338534278962| 0.1049645390070922|0.07706855791962175|     109.0885200945626| 0.05106382978723404|\n+------+-----------------+-----------------+-------------------+-------------------+----------------------+--------------------+\n\n"
     ]
    }
   ],
   "source": [
    "df.groupBy('gender').mean().show()"
   ]
  },
  {
   "cell_type": "code",
   "execution_count": 6,
   "metadata": {},
   "outputs": [
    {
     "output_type": "display_data",
     "data": {
      "text/plain": "DataFrame[gender: string, avg(stroke): double]"
     },
     "metadata": {}
    }
   ],
   "source": [
    "display(df.groupBy(\"gender\").avg(\"stroke\").orderBy(\"gender\"))"
   ]
  },
  {
   "cell_type": "code",
   "execution_count": 7,
   "metadata": {},
   "outputs": [
    {
     "output_type": "stream",
     "name": "stdout",
     "text": [
      "+------+------+------------------+-----------------+-------------------+-------------------+----------------------+-----------+\n|gender|stroke|           avg(id)|         avg(age)|  avg(hypertension)| avg(heart_disease)|avg(avg_glucose_level)|avg(stroke)|\n+------+------+------------------+-----------------+-------------------+-------------------+----------------------+-----------+\n|  Male|     1| 37566.67592592593|             68.5|               0.25|0.25925925925925924|    143.15935185185185|        1.0|\n| Other|     0|           56156.0|             26.0|                0.0|                0.0|                143.33|        0.0|\n|Female|     0| 36465.37889940414|42.60193480546795|0.08307045215562565|0.03294777427269541|    103.05175254118453|        0.0|\n|  Male|     0|  36508.5072247135|41.08338814150475|0.09715994020926756|0.06726457399103139|    107.25511210762329|        0.0|\n|Female|     1|36769.156028368794|67.13702127659575| 0.2765957446808511| 0.1347517730496454|    124.41439716312063|        1.0|\n+------+------+------------------+-----------------+-------------------+-------------------+----------------------+-----------+\n\n"
     ]
    }
   ],
   "source": [
    "   df.groupBy('gender','stroke').mean().show()"
   ]
  },
  {
   "cell_type": "code",
   "execution_count": 10,
   "metadata": {},
   "outputs": [
    {
     "output_type": "stream",
     "name": "stdout",
     "text": [
      "+------+-----+\n|stroke|count|\n+------+-----+\n|     1|  249|\n|     0| 4861|\n+------+-----+\n\n"
     ]
    }
   ],
   "source": [
    "df.groupBy('stroke').count().show()"
   ]
  },
  {
   "cell_type": "code",
   "execution_count": 11,
   "metadata": {},
   "outputs": [
    {
     "output_type": "stream",
     "name": "stdout",
     "text": [
      "+-------------+---------------+\n|    work_type|work_type_count|\n+-------------+---------------+\n|      Private|            149|\n|Self-employed|             65|\n|     Govt_job|             33|\n|     children|              2|\n+-------------+---------------+\n\n"
     ]
    }
   ],
   "source": [
    "#influence of work type on getting stroke\n",
    "#more private\n",
    "df_stroke = df.groupBy('work_type', 'stroke').count().select('stroke','work_type',f.col('count').alias('work_type_count'))\n",
    "df_stroke = df_stroke.filter(df['stroke'] == 1).select('work_type', 'work_type_count').orderBy(df_stroke['work_type_count'].desc())\n",
    "df_stroke.show()"
   ]
  },
  {
   "cell_type": "code",
   "execution_count": 12,
   "metadata": {},
   "outputs": [
    {
     "output_type": "stream",
     "name": "stdout",
     "text": [
      "+------+------------+--------------------+\n|gender|count_gender|percentage_of_gender|\n+------+------------+--------------------+\n|Female|        2994|               58.59|\n| Other|           1|                0.02|\n|  Male|        2115|               41.39|\n+------+------------+--------------------+\n\n"
     ]
    }
   ],
   "source": [
    "#participated in this clinic measurement\n",
    "#58% Female. 41% Male\n",
    "df_mes = df.groupBy('gender').count().select('gender',f.col('count').alias('count_gender')).withColumn('percentage_of_gender',(f.col('count_gender') / df.count()) * 100 ).select('gender','count_gender',(format_number('percentage_of_gender',2).alias('percentage_of_gender')))\n",
    "\n",
    "df_mes.show()"
   ]
  },
  {
   "cell_type": "code",
   "execution_count": 13,
   "metadata": {},
   "outputs": [
    {
     "output_type": "stream",
     "name": "stdout",
     "text": [
      "+------+------------+--------------------+\n",
      "|gender|count_gender|percentage_of_stroke|\n",
      "+------+------------+--------------------+\n",
      "|  Male|         108|                2.11|\n",
      "+------+------------+--------------------+\n",
      "\n",
      "+------+------------+--------------------+\n",
      "|gender|count_gender|percentage_of_stroke|\n",
      "+------+------------+--------------------+\n",
      "|Female|         141|                2.76|\n",
      "+------+------------+--------------------+\n",
      "\n"
     ]
    }
   ],
   "source": [
    "# how many female/male have a stroke\n",
    "# 2,11% Male. 2,76% Female\n",
    "df_gen_str_M = df.groupBy('gender', 'stroke').count().select('gender',f.col('count').alias('count_gender')).withColumn('percentage_of_stroke',(f.col('count_gender') / df.count()) * 100 ).filter((df['stroke'] == 1) & (df['gender'] == 'Male')).select('gender','count_gender',(format_number('percentage_of_stroke',2).alias('percentage_of_stroke')))\n",
    "\n",
    "df_gen_str_M.show()\n",
    "\n",
    "df_gen_str_F = df.groupBy('gender', 'stroke').count().select('gender',f.col('count').alias('count_gender')).withColumn('percentage_of_stroke',(f.col('count_gender') / df.count()) * 100 ).filter((df['stroke'] == 1) & (df['gender'] == 'Female')).select('gender','count_gender',(format_number('percentage_of_stroke',2).alias('percentage_of_stroke')))\n",
    "\n",
    "df_gen_str_F.show()"
   ]
  },
  {
   "cell_type": "code",
   "execution_count": 22,
   "metadata": {},
   "outputs": [
    {
     "output_type": "stream",
     "name": "stdout",
     "text": [
      "+----+-----+\n| age|count|\n+----+-----+\n|82.0|    9|\n|51.0|    4|\n|71.0|    7|\n|69.0|    6|\n|65.0|    3|\n|78.0|   21|\n|47.0|    1|\n|61.0|    6|\n|60.0|    4|\n|70.0|    6|\n|54.0|    6|\n|56.0|    3|\n|63.0|    9|\n|52.0|    2|\n|58.0|    7|\n|55.0|    2|\n|14.0|    1|\n|68.0|    9|\n|74.0|    9|\n|59.0|    8|\n+----+-----+\nonly showing top 20 rows\n\n"
     ]
    }
   ],
   "source": [
    "#sort by age that have a stroke\n",
    "df_ag = df.groupBy('age','stroke').count().filter(df['stroke'] == 1).select('age', 'count')\n",
    "df_ag.show()"
   ]
  },
  {
   "source": [
    "#sort by stroke and age > 50\n",
    "df_age = df.groupBy('age','stroke').count().select('stroke','age',f.col('count').alias('age_count')).withColumn('percentage_of_stroke',(f.col('age_count') / df.count()) * 100 ).filter(df['stroke'] == 1).select('age','age_count',(format_number('percentage_of_stroke',2).alias('percentage_of_stroke')))\n",
    "\n",
    "df_age = df_age.orderBy(df_age['age_count'].desc())\n",
    "\n",
    "df_age.show()"
   ],
   "cell_type": "code",
   "metadata": {},
   "execution_count": 16,
   "outputs": [
    {
     "output_type": "stream",
     "name": "stdout",
     "text": [
      "+----+---------+--------------------+\n| age|age_count|percentage_of_stroke|\n+----+---------+--------------------+\n|78.0|       21|                0.41|\n|79.0|       17|                0.33|\n|80.0|       17|                0.33|\n|81.0|       14|                0.27|\n|57.0|       11|                0.22|\n|76.0|       10|                0.20|\n|63.0|        9|                0.18|\n|74.0|        9|                0.18|\n|82.0|        9|                0.18|\n|68.0|        9|                0.18|\n|77.0|        8|                0.16|\n|59.0|        8|                0.16|\n|58.0|        7|                0.14|\n|71.0|        7|                0.14|\n|61.0|        6|                0.12|\n|75.0|        6|                0.12|\n|54.0|        6|                0.12|\n|69.0|        6|                0.12|\n|70.0|        6|                0.12|\n|72.0|        6|                0.12|\n+----+---------+--------------------+\nonly showing top 20 rows\n\n"
     ]
    }
   ]
  },
  {
   "cell_type": "code",
   "execution_count": 19,
   "metadata": {},
   "outputs": [
    {
     "output_type": "execute_result",
     "data": {
      "text/plain": [
       "226"
      ]
     },
     "metadata": {},
     "execution_count": 19
    }
   ],
   "source": [
    "# calculate the number of stroke cases for people after 50 years \n",
    "df.filter((df['stroke'] == 1) & (df['age'] > '50')).count()"
   ]
  },
  {
   "cell_type": "code",
   "execution_count": 20,
   "metadata": {},
   "outputs": [
    {
     "output_type": "execute_result",
     "data": {
      "text/plain": [
       "4.422700587084149"
      ]
     },
     "metadata": {},
     "execution_count": 20
    }
   ],
   "source": [
    "#percentage person over 50 that have stroke\n",
    "#4.4 %\n",
    "df_age_per = ((df.filter((df['stroke'] == 1) & (df['age'] > '50')).count() ) / df.count() ) * 100 \n",
    "df_age_per\n"
   ]
  },
  {
   "cell_type": "code",
   "execution_count": 3,
   "metadata": {},
   "outputs": [],
   "source": [
    "  "
   ]
  },
  {
   "cell_type": "code",
   "execution_count": null,
   "metadata": {},
   "outputs": [],
   "source": []
  }
 ]
}