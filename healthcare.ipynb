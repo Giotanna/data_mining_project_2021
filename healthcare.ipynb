{
 "metadata": {
  "language_info": {
   "codemirror_mode": {
    "name": "ipython",
    "version": 3
   },
   "file_extension": ".py",
   "mimetype": "text/x-python",
   "name": "python",
   "nbconvert_exporter": "python",
   "pygments_lexer": "ipython3",
   "version": "3.8.5"
  },
  "orig_nbformat": 2,
  "kernelspec": {
   "name": "python38564bit3a9aaef6a7c347cd881bbd77437f2a07",
   "display_name": "Python 3.8.5 64-bit"
  },
  "metadata": {
   "interpreter": {
    "hash": "916dbcbb3f70747c44a77c7bcd40155683ae19c65e1c03b4aa3499c5328201f1"
   }
  }
 },
 "nbformat": 4,
 "nbformat_minor": 2,
 "cells": [
  {
   "cell_type": "code",
   "execution_count": 31,
   "metadata": {},
   "outputs": [],
   "source": [
    "from pyspark.sql import SparkSession\n",
    "spark = SparkSession.builder.appName('Basics').getOrCreate()\n",
    "\n",
    "import matplotlib.pyplot as plt\n",
    "import seaborn as sns\n",
    "import pandas as pd\n",
    "\n",
    "from pylab import rcParams\n",
    "from pyspark.sql.functions import avg\n",
    "import pyspark.sql.functions as f\n",
    "import pyspark.sql.functions as F\n",
    "from pyspark.sql.window import Window #***\n",
    "from pyspark.sql.functions import sum\n",
    "from pyspark.sql.functions import format_number\n",
    "\n",
    "\n",
    "df = spark.read.csv('healthcare-dataset-stroke-data.csv', inferSchema=True,header=True)"
   ]
  },
  {
   "cell_type": "code",
   "execution_count": 2,
   "metadata": {},
   "outputs": [
    {
     "output_type": "stream",
     "name": "stdout",
     "text": [
      "+-----+------+----+------------+-------------+------------+-------------+--------------+-----------------+----+---------------+------+\n|   id|gender| age|hypertension|heart_disease|ever_married|    work_type|Residence_type|avg_glucose_level| bmi| smoking_status|stroke|\n+-----+------+----+------------+-------------+------------+-------------+--------------+-----------------+----+---------------+------+\n| 9046|  Male|67.0|           0|            1|         Yes|      Private|         Urban|           228.69|36.6|formerly smoked|     1|\n|51676|Female|61.0|           0|            0|         Yes|Self-employed|         Rural|           202.21| N/A|   never smoked|     1|\n|31112|  Male|80.0|           0|            1|         Yes|      Private|         Rural|           105.92|32.5|   never smoked|     1|\n|60182|Female|49.0|           0|            0|         Yes|      Private|         Urban|           171.23|34.4|         smokes|     1|\n| 1665|Female|79.0|           1|            0|         Yes|Self-employed|         Rural|           174.12|  24|   never smoked|     1|\n|56669|  Male|81.0|           0|            0|         Yes|      Private|         Urban|           186.21|  29|formerly smoked|     1|\n|53882|  Male|74.0|           1|            1|         Yes|      Private|         Rural|            70.09|27.4|   never smoked|     1|\n|10434|Female|69.0|           0|            0|          No|      Private|         Urban|            94.39|22.8|   never smoked|     1|\n|27419|Female|59.0|           0|            0|         Yes|      Private|         Rural|            76.15| N/A|        Unknown|     1|\n|60491|Female|78.0|           0|            0|         Yes|      Private|         Urban|            58.57|24.2|        Unknown|     1|\n|12109|Female|81.0|           1|            0|         Yes|      Private|         Rural|            80.43|29.7|   never smoked|     1|\n|12095|Female|61.0|           0|            1|         Yes|     Govt_job|         Rural|           120.46|36.8|         smokes|     1|\n|12175|Female|54.0|           0|            0|         Yes|      Private|         Urban|           104.51|27.3|         smokes|     1|\n| 8213|  Male|78.0|           0|            1|         Yes|      Private|         Urban|           219.84| N/A|        Unknown|     1|\n| 5317|Female|79.0|           0|            1|         Yes|      Private|         Urban|           214.09|28.2|   never smoked|     1|\n|58202|Female|50.0|           1|            0|         Yes|Self-employed|         Rural|           167.41|30.9|   never smoked|     1|\n|56112|  Male|64.0|           0|            1|         Yes|      Private|         Urban|           191.61|37.5|         smokes|     1|\n|34120|  Male|75.0|           1|            0|         Yes|      Private|         Urban|           221.29|25.8|         smokes|     1|\n|27458|Female|60.0|           0|            0|          No|      Private|         Urban|            89.22|37.8|   never smoked|     1|\n|25226|  Male|57.0|           0|            1|          No|     Govt_job|         Urban|           217.08| N/A|        Unknown|     1|\n+-----+------+----+------------+-------------+------------+-------------+--------------+-----------------+----+---------------+------+\nonly showing top 20 rows\n\n"
     ]
    }
   ],
   "source": [
    "df.show()\n"
   ]
  },
  {
   "cell_type": "code",
   "execution_count": 3,
   "metadata": {},
   "outputs": [
    {
     "output_type": "stream",
     "name": "stdout",
     "text": [
      "+-------+-----------------+------+------------------+------------------+-------------------+------------+---------+--------------+------------------+------------------+--------------+-------------------+\n|summary|               id|gender|               age|      hypertension|      heart_disease|ever_married|work_type|Residence_type| avg_glucose_level|               bmi|smoking_status|             stroke|\n+-------+-----------------+------+------------------+------------------+-------------------+------------+---------+--------------+------------------+------------------+--------------+-------------------+\n|  count|             5110|  5110|              5110|              5110|               5110|        5110|     5110|          5110|              5110|              5110|          5110|               5110|\n|   mean|36517.82935420744|  null|43.226614481409015|0.0974559686888454|0.05401174168297456|        null|     null|          null|106.14767710371804|28.893236911794673|          null| 0.0487279843444227|\n| stddev|21161.72162482715|  null| 22.61264672311348| 0.296606674233791|0.22606298750336554|        null|     null|          null| 45.28356015058193|  7.85406672968016|          null|0.21531985698023753|\n|    min|               67|Female|              0.08|                 0|                  0|          No| Govt_job|         Rural|             55.12|              10.3|       Unknown|                  0|\n|    max|            72940| Other|              82.0|                 1|                  1|         Yes| children|         Urban|            271.74|               N/A|        smokes|                  1|\n+-------+-----------------+------+------------------+------------------+-------------------+------------+---------+--------------+------------------+------------------+--------------+-------------------+\n\n"
     ]
    }
   ],
   "source": [
    "df.describe().show()"
   ]
  },
  {
   "cell_type": "code",
   "execution_count": 4,
   "metadata": {},
   "outputs": [
    {
     "output_type": "stream",
     "name": "stdout",
     "text": [
      "root\n |-- id: integer (nullable = true)\n |-- gender: string (nullable = true)\n |-- age: double (nullable = true)\n |-- hypertension: integer (nullable = true)\n |-- heart_disease: integer (nullable = true)\n |-- ever_married: string (nullable = true)\n |-- work_type: string (nullable = true)\n |-- Residence_type: string (nullable = true)\n |-- avg_glucose_level: double (nullable = true)\n |-- bmi: string (nullable = true)\n |-- smoking_status: string (nullable = true)\n |-- stroke: integer (nullable = true)\n\n"
     ]
    }
   ],
   "source": [
    "df.printSchema()"
   ]
  },
  {
   "cell_type": "code",
   "execution_count": 5,
   "metadata": {},
   "outputs": [
    {
     "output_type": "stream",
     "name": "stdout",
     "text": [
      "+------+------------------+------------------+-------------------+-------------------+----------------------+-----------+\n|stroke|           avg(id)|          avg(age)|  avg(hypertension)| avg(heart_disease)|avg(avg_glucose_level)|avg(stroke)|\n+------+------------------+------------------+-------------------+-------------------+----------------------+-----------+\n|     1| 37115.06827309237| 67.72819277108434|0.26506024096385544|0.18875502008032127|    132.54473895582322|        1.0|\n|     0|36487.236371117055|41.971544949598865|0.08887060275663444|0.04710964822053076|    104.79551326887444|        0.0|\n+------+------------------+------------------+-------------------+-------------------+----------------------+-----------+\n\n"
     ]
    }
   ],
   "source": [
    "   #*******************\n",
    "   df.groupBy('stroke').mean().show()"
   ]
  },
  {
   "cell_type": "code",
   "execution_count": 6,
   "metadata": {},
   "outputs": [
    {
     "output_type": "stream",
     "name": "stdout",
     "text": [
      "+------+-----+\n|stroke|count|\n+------+-----+\n|     1|  249|\n|     0| 4861|\n+------+-----+\n\n"
     ]
    }
   ],
   "source": [
    "#count people that have a stroke\n",
    "df1 = df.groupBy('stroke').count()\n",
    "df1.show()"
   ]
  },
  {
   "cell_type": "code",
   "execution_count": 7,
   "metadata": {},
   "outputs": [
    {
     "output_type": "stream",
     "name": "stderr",
     "text": [
      "/home/giotanna/.local/lib/python3.8/site-packages/seaborn/distributions.py:2557: FutureWarning: `distplot` is a deprecated function and will be removed in a future version. Please adapt your code to use either `displot` (a figure-level function with similar flexibility) or `histplot` (an axes-level function for histograms).\n  warnings.warn(msg, FutureWarning)\n"
     ]
    },
    {
     "output_type": "execute_result",
     "data": {
      "text/plain": [
       "<AxesSubplot:ylabel='Density'>"
      ]
     },
     "metadata": {},
     "execution_count": 7
    },
    {
     "output_type": "display_data",
     "data": {
      "text/plain": "<Figure size 432x288 with 1 Axes>",
      "image/svg+xml": "<?xml version=\"1.0\" encoding=\"utf-8\" standalone=\"no\"?>\n<!DOCTYPE svg PUBLIC \"-//W3C//DTD SVG 1.1//EN\"\n  \"http://www.w3.org/Graphics/SVG/1.1/DTD/svg11.dtd\">\n<svg height=\"248.518125pt\" version=\"1.1\" viewBox=\"0 0 382.603125 248.518125\" width=\"382.603125pt\" xmlns=\"http://www.w3.org/2000/svg\" xmlns:xlink=\"http://www.w3.org/1999/xlink\">\n <metadata>\n  <rdf:RDF xmlns:cc=\"http://creativecommons.org/ns#\" xmlns:dc=\"http://purl.org/dc/elements/1.1/\" xmlns:rdf=\"http://www.w3.org/1999/02/22-rdf-syntax-ns#\">\n   <cc:Work>\n    <dc:type rdf:resource=\"http://purl.org/dc/dcmitype/StillImage\"/>\n    <dc:date>2021-04-14T11:08:40.020396</dc:date>\n    <dc:format>image/svg+xml</dc:format>\n    <dc:creator>\n     <cc:Agent>\n      <dc:title>Matplotlib v3.4.0, https://matplotlib.org/</dc:title>\n     </cc:Agent>\n    </dc:creator>\n   </cc:Work>\n  </rdf:RDF>\n </metadata>\n <defs>\n  <style type=\"text/css\">*{stroke-linecap:butt;stroke-linejoin:round;}</style>\n </defs>\n <g id=\"figure_1\">\n  <g id=\"patch_1\">\n   <path d=\"M 0 248.518125 \nL 382.603125 248.518125 \nL 382.603125 0 \nL 0 0 \nz\n\" style=\"fill:none;\"/>\n  </g>\n  <g id=\"axes_1\">\n   <g id=\"patch_2\">\n    <path d=\"M 40.603125 224.64 \nL 375.403125 224.64 \nL 375.403125 7.2 \nL 40.603125 7.2 \nz\n\" style=\"fill:#ffffff;\"/>\n   </g>\n   <g id=\"patch_3\">\n    <path clip-path=\"url(#p8e55585ce6)\" d=\"M 88.14461 224.64 \nL 92.938951 224.64 \nL 92.938951 17.554286 \nL 88.14461 17.554286 \nz\n\" style=\"fill:#1f77b4;opacity:0.4;\"/>\n   </g>\n   <g id=\"patch_4\">\n    <path clip-path=\"url(#p8e55585ce6)\" d=\"M 92.938951 224.64 \nL 97.733292 224.64 \nL 97.733292 224.64 \nL 92.938951 224.64 \nz\n\" style=\"fill:#1f77b4;opacity:0.4;\"/>\n   </g>\n   <g id=\"patch_5\">\n    <path clip-path=\"url(#p8e55585ce6)\" d=\"M 97.733292 224.64 \nL 102.527632 224.64 \nL 102.527632 224.64 \nL 97.733292 224.64 \nz\n\" style=\"fill:#1f77b4;opacity:0.4;\"/>\n   </g>\n   <g id=\"patch_6\">\n    <path clip-path=\"url(#p8e55585ce6)\" d=\"M 102.527632 224.64 \nL 107.321973 224.64 \nL 107.321973 224.64 \nL 102.527632 224.64 \nz\n\" style=\"fill:#1f77b4;opacity:0.4;\"/>\n   </g>\n   <g id=\"patch_7\">\n    <path clip-path=\"url(#p8e55585ce6)\" d=\"M 107.321973 224.64 \nL 112.116313 224.64 \nL 112.116313 224.64 \nL 107.321973 224.64 \nz\n\" style=\"fill:#1f77b4;opacity:0.4;\"/>\n   </g>\n   <g id=\"patch_8\">\n    <path clip-path=\"url(#p8e55585ce6)\" d=\"M 112.116313 224.64 \nL 116.910654 224.64 \nL 116.910654 224.64 \nL 112.116313 224.64 \nz\n\" style=\"fill:#1f77b4;opacity:0.4;\"/>\n   </g>\n   <g id=\"patch_9\">\n    <path clip-path=\"url(#p8e55585ce6)\" d=\"M 116.910654 224.64 \nL 121.704994 224.64 \nL 121.704994 224.64 \nL 116.910654 224.64 \nz\n\" style=\"fill:#1f77b4;opacity:0.4;\"/>\n   </g>\n   <g id=\"patch_10\">\n    <path clip-path=\"url(#p8e55585ce6)\" d=\"M 121.704994 224.64 \nL 126.499335 224.64 \nL 126.499335 224.64 \nL 121.704994 224.64 \nz\n\" style=\"fill:#1f77b4;opacity:0.4;\"/>\n   </g>\n   <g id=\"patch_11\">\n    <path clip-path=\"url(#p8e55585ce6)\" d=\"M 126.499335 224.64 \nL 131.293676 224.64 \nL 131.293676 224.64 \nL 126.499335 224.64 \nz\n\" style=\"fill:#1f77b4;opacity:0.4;\"/>\n   </g>\n   <g id=\"patch_12\">\n    <path clip-path=\"url(#p8e55585ce6)\" d=\"M 131.293676 224.64 \nL 136.088016 224.64 \nL 136.088016 224.64 \nL 131.293676 224.64 \nz\n\" style=\"fill:#1f77b4;opacity:0.4;\"/>\n   </g>\n   <g id=\"patch_13\">\n    <path clip-path=\"url(#p8e55585ce6)\" d=\"M 136.088016 224.64 \nL 140.882357 224.64 \nL 140.882357 224.64 \nL 136.088016 224.64 \nz\n\" style=\"fill:#1f77b4;opacity:0.4;\"/>\n   </g>\n   <g id=\"patch_14\">\n    <path clip-path=\"url(#p8e55585ce6)\" d=\"M 140.882357 224.64 \nL 145.676697 224.64 \nL 145.676697 224.64 \nL 140.882357 224.64 \nz\n\" style=\"fill:#1f77b4;opacity:0.4;\"/>\n   </g>\n   <g id=\"patch_15\">\n    <path clip-path=\"url(#p8e55585ce6)\" d=\"M 145.676697 224.64 \nL 150.471038 224.64 \nL 150.471038 224.64 \nL 145.676697 224.64 \nz\n\" style=\"fill:#1f77b4;opacity:0.4;\"/>\n   </g>\n   <g id=\"patch_16\">\n    <path clip-path=\"url(#p8e55585ce6)\" d=\"M 150.471038 224.64 \nL 155.265379 224.64 \nL 155.265379 224.64 \nL 150.471038 224.64 \nz\n\" style=\"fill:#1f77b4;opacity:0.4;\"/>\n   </g>\n   <g id=\"patch_17\">\n    <path clip-path=\"url(#p8e55585ce6)\" d=\"M 155.265379 224.64 \nL 160.059719 224.64 \nL 160.059719 224.64 \nL 155.265379 224.64 \nz\n\" style=\"fill:#1f77b4;opacity:0.4;\"/>\n   </g>\n   <g id=\"patch_18\">\n    <path clip-path=\"url(#p8e55585ce6)\" d=\"M 160.059719 224.64 \nL 164.85406 224.64 \nL 164.85406 224.64 \nL 160.059719 224.64 \nz\n\" style=\"fill:#1f77b4;opacity:0.4;\"/>\n   </g>\n   <g id=\"patch_19\">\n    <path clip-path=\"url(#p8e55585ce6)\" d=\"M 164.85406 224.64 \nL 169.6484 224.64 \nL 169.6484 224.64 \nL 164.85406 224.64 \nz\n\" style=\"fill:#1f77b4;opacity:0.4;\"/>\n   </g>\n   <g id=\"patch_20\">\n    <path clip-path=\"url(#p8e55585ce6)\" d=\"M 169.6484 224.64 \nL 174.442741 224.64 \nL 174.442741 224.64 \nL 169.6484 224.64 \nz\n\" style=\"fill:#1f77b4;opacity:0.4;\"/>\n   </g>\n   <g id=\"patch_21\">\n    <path clip-path=\"url(#p8e55585ce6)\" d=\"M 174.442741 224.64 \nL 179.237081 224.64 \nL 179.237081 224.64 \nL 174.442741 224.64 \nz\n\" style=\"fill:#1f77b4;opacity:0.4;\"/>\n   </g>\n   <g id=\"patch_22\">\n    <path clip-path=\"url(#p8e55585ce6)\" d=\"M 179.237081 224.64 \nL 184.031422 224.64 \nL 184.031422 224.64 \nL 179.237081 224.64 \nz\n\" style=\"fill:#1f77b4;opacity:0.4;\"/>\n   </g>\n   <g id=\"patch_23\">\n    <path clip-path=\"url(#p8e55585ce6)\" d=\"M 184.031422 224.64 \nL 188.825763 224.64 \nL 188.825763 224.64 \nL 184.031422 224.64 \nz\n\" style=\"fill:#1f77b4;opacity:0.4;\"/>\n   </g>\n   <g id=\"patch_24\">\n    <path clip-path=\"url(#p8e55585ce6)\" d=\"M 188.825763 224.64 \nL 193.620103 224.64 \nL 193.620103 224.64 \nL 188.825763 224.64 \nz\n\" style=\"fill:#1f77b4;opacity:0.4;\"/>\n   </g>\n   <g id=\"patch_25\">\n    <path clip-path=\"url(#p8e55585ce6)\" d=\"M 193.620103 224.64 \nL 198.414444 224.64 \nL 198.414444 224.64 \nL 193.620103 224.64 \nz\n\" style=\"fill:#1f77b4;opacity:0.4;\"/>\n   </g>\n   <g id=\"patch_26\">\n    <path clip-path=\"url(#p8e55585ce6)\" d=\"M 198.414444 224.64 \nL 203.208784 224.64 \nL 203.208784 224.64 \nL 198.414444 224.64 \nz\n\" style=\"fill:#1f77b4;opacity:0.4;\"/>\n   </g>\n   <g id=\"patch_27\">\n    <path clip-path=\"url(#p8e55585ce6)\" d=\"M 203.208784 224.64 \nL 208.003125 224.64 \nL 208.003125 224.64 \nL 203.208784 224.64 \nz\n\" style=\"fill:#1f77b4;opacity:0.4;\"/>\n   </g>\n   <g id=\"patch_28\">\n    <path clip-path=\"url(#p8e55585ce6)\" d=\"M 208.003125 224.64 \nL 212.797466 224.64 \nL 212.797466 224.64 \nL 208.003125 224.64 \nz\n\" style=\"fill:#1f77b4;opacity:0.4;\"/>\n   </g>\n   <g id=\"patch_29\">\n    <path clip-path=\"url(#p8e55585ce6)\" d=\"M 212.797466 224.64 \nL 217.591806 224.64 \nL 217.591806 224.64 \nL 212.797466 224.64 \nz\n\" style=\"fill:#1f77b4;opacity:0.4;\"/>\n   </g>\n   <g id=\"patch_30\">\n    <path clip-path=\"url(#p8e55585ce6)\" d=\"M 217.591806 224.64 \nL 222.386147 224.64 \nL 222.386147 224.64 \nL 217.591806 224.64 \nz\n\" style=\"fill:#1f77b4;opacity:0.4;\"/>\n   </g>\n   <g id=\"patch_31\">\n    <path clip-path=\"url(#p8e55585ce6)\" d=\"M 222.386147 224.64 \nL 227.180487 224.64 \nL 227.180487 224.64 \nL 222.386147 224.64 \nz\n\" style=\"fill:#1f77b4;opacity:0.4;\"/>\n   </g>\n   <g id=\"patch_32\">\n    <path clip-path=\"url(#p8e55585ce6)\" d=\"M 227.180487 224.64 \nL 231.974828 224.64 \nL 231.974828 224.64 \nL 227.180487 224.64 \nz\n\" style=\"fill:#1f77b4;opacity:0.4;\"/>\n   </g>\n   <g id=\"patch_33\">\n    <path clip-path=\"url(#p8e55585ce6)\" d=\"M 231.974828 224.64 \nL 236.769169 224.64 \nL 236.769169 224.64 \nL 231.974828 224.64 \nz\n\" style=\"fill:#1f77b4;opacity:0.4;\"/>\n   </g>\n   <g id=\"patch_34\">\n    <path clip-path=\"url(#p8e55585ce6)\" d=\"M 236.769169 224.64 \nL 241.563509 224.64 \nL 241.563509 224.64 \nL 236.769169 224.64 \nz\n\" style=\"fill:#1f77b4;opacity:0.4;\"/>\n   </g>\n   <g id=\"patch_35\">\n    <path clip-path=\"url(#p8e55585ce6)\" d=\"M 241.563509 224.64 \nL 246.35785 224.64 \nL 246.35785 224.64 \nL 241.563509 224.64 \nz\n\" style=\"fill:#1f77b4;opacity:0.4;\"/>\n   </g>\n   <g id=\"patch_36\">\n    <path clip-path=\"url(#p8e55585ce6)\" d=\"M 246.35785 224.64 \nL 251.15219 224.64 \nL 251.15219 224.64 \nL 246.35785 224.64 \nz\n\" style=\"fill:#1f77b4;opacity:0.4;\"/>\n   </g>\n   <g id=\"patch_37\">\n    <path clip-path=\"url(#p8e55585ce6)\" d=\"M 251.15219 224.64 \nL 255.946531 224.64 \nL 255.946531 224.64 \nL 251.15219 224.64 \nz\n\" style=\"fill:#1f77b4;opacity:0.4;\"/>\n   </g>\n   <g id=\"patch_38\">\n    <path clip-path=\"url(#p8e55585ce6)\" d=\"M 255.946531 224.64 \nL 260.740871 224.64 \nL 260.740871 224.64 \nL 255.946531 224.64 \nz\n\" style=\"fill:#1f77b4;opacity:0.4;\"/>\n   </g>\n   <g id=\"patch_39\">\n    <path clip-path=\"url(#p8e55585ce6)\" d=\"M 260.740871 224.64 \nL 265.535212 224.64 \nL 265.535212 224.64 \nL 260.740871 224.64 \nz\n\" style=\"fill:#1f77b4;opacity:0.4;\"/>\n   </g>\n   <g id=\"patch_40\">\n    <path clip-path=\"url(#p8e55585ce6)\" d=\"M 265.535212 224.64 \nL 270.329553 224.64 \nL 270.329553 224.64 \nL 265.535212 224.64 \nz\n\" style=\"fill:#1f77b4;opacity:0.4;\"/>\n   </g>\n   <g id=\"patch_41\">\n    <path clip-path=\"url(#p8e55585ce6)\" d=\"M 270.329553 224.64 \nL 275.123893 224.64 \nL 275.123893 224.64 \nL 270.329553 224.64 \nz\n\" style=\"fill:#1f77b4;opacity:0.4;\"/>\n   </g>\n   <g id=\"patch_42\">\n    <path clip-path=\"url(#p8e55585ce6)\" d=\"M 275.123893 224.64 \nL 279.918234 224.64 \nL 279.918234 224.64 \nL 275.123893 224.64 \nz\n\" style=\"fill:#1f77b4;opacity:0.4;\"/>\n   </g>\n   <g id=\"patch_43\">\n    <path clip-path=\"url(#p8e55585ce6)\" d=\"M 279.918234 224.64 \nL 284.712574 224.64 \nL 284.712574 224.64 \nL 279.918234 224.64 \nz\n\" style=\"fill:#1f77b4;opacity:0.4;\"/>\n   </g>\n   <g id=\"patch_44\">\n    <path clip-path=\"url(#p8e55585ce6)\" d=\"M 284.712574 224.64 \nL 289.506915 224.64 \nL 289.506915 224.64 \nL 284.712574 224.64 \nz\n\" style=\"fill:#1f77b4;opacity:0.4;\"/>\n   </g>\n   <g id=\"patch_45\">\n    <path clip-path=\"url(#p8e55585ce6)\" d=\"M 289.506915 224.64 \nL 294.301256 224.64 \nL 294.301256 224.64 \nL 289.506915 224.64 \nz\n\" style=\"fill:#1f77b4;opacity:0.4;\"/>\n   </g>\n   <g id=\"patch_46\">\n    <path clip-path=\"url(#p8e55585ce6)\" d=\"M 294.301256 224.64 \nL 299.095596 224.64 \nL 299.095596 224.64 \nL 294.301256 224.64 \nz\n\" style=\"fill:#1f77b4;opacity:0.4;\"/>\n   </g>\n   <g id=\"patch_47\">\n    <path clip-path=\"url(#p8e55585ce6)\" d=\"M 299.095596 224.64 \nL 303.889937 224.64 \nL 303.889937 224.64 \nL 299.095596 224.64 \nz\n\" style=\"fill:#1f77b4;opacity:0.4;\"/>\n   </g>\n   <g id=\"patch_48\">\n    <path clip-path=\"url(#p8e55585ce6)\" d=\"M 303.889937 224.64 \nL 308.684277 224.64 \nL 308.684277 224.64 \nL 303.889937 224.64 \nz\n\" style=\"fill:#1f77b4;opacity:0.4;\"/>\n   </g>\n   <g id=\"patch_49\">\n    <path clip-path=\"url(#p8e55585ce6)\" d=\"M 308.684277 224.64 \nL 313.478618 224.64 \nL 313.478618 224.64 \nL 308.684277 224.64 \nz\n\" style=\"fill:#1f77b4;opacity:0.4;\"/>\n   </g>\n   <g id=\"patch_50\">\n    <path clip-path=\"url(#p8e55585ce6)\" d=\"M 313.478618 224.64 \nL 318.272958 224.64 \nL 318.272958 224.64 \nL 313.478618 224.64 \nz\n\" style=\"fill:#1f77b4;opacity:0.4;\"/>\n   </g>\n   <g id=\"patch_51\">\n    <path clip-path=\"url(#p8e55585ce6)\" d=\"M 318.272958 224.64 \nL 323.067299 224.64 \nL 323.067299 224.64 \nL 318.272958 224.64 \nz\n\" style=\"fill:#1f77b4;opacity:0.4;\"/>\n   </g>\n   <g id=\"patch_52\">\n    <path clip-path=\"url(#p8e55585ce6)\" d=\"M 323.067299 224.64 \nL 327.86164 224.64 \nL 327.86164 213.899736 \nL 323.067299 213.899736 \nz\n\" style=\"fill:#1f77b4;opacity:0.4;\"/>\n   </g>\n   <g id=\"matplotlib.axis_1\">\n    <g id=\"xtick_1\">\n     <g id=\"line2d_1\">\n      <defs>\n       <path d=\"M 0 0 \nL 0 3.5 \n\" id=\"mdfbf29a1f6\" style=\"stroke:#000000;stroke-width:0.8;\"/>\n      </defs>\n      <g>\n       <use style=\"stroke:#000000;stroke-width:0.8;\" x=\"88.14461\" xlink:href=\"#mdfbf29a1f6\" y=\"224.64\"/>\n      </g>\n     </g>\n     <g id=\"text_1\">\n      <!-- 0.0 -->\n      <g transform=\"translate(80.193048 239.238437)scale(0.1 -0.1)\">\n       <defs>\n        <path d=\"M 2034 4250 \nQ 1547 4250 1301 3770 \nQ 1056 3291 1056 2328 \nQ 1056 1369 1301 889 \nQ 1547 409 2034 409 \nQ 2525 409 2770 889 \nQ 3016 1369 3016 2328 \nQ 3016 3291 2770 3770 \nQ 2525 4250 2034 4250 \nz\nM 2034 4750 \nQ 2819 4750 3233 4129 \nQ 3647 3509 3647 2328 \nQ 3647 1150 3233 529 \nQ 2819 -91 2034 -91 \nQ 1250 -91 836 529 \nQ 422 1150 422 2328 \nQ 422 3509 836 4129 \nQ 1250 4750 2034 4750 \nz\n\" id=\"DejaVuSans-30\" transform=\"scale(0.015625)\"/>\n        <path d=\"M 684 794 \nL 1344 794 \nL 1344 0 \nL 684 0 \nL 684 794 \nz\n\" id=\"DejaVuSans-2e\" transform=\"scale(0.015625)\"/>\n       </defs>\n       <use xlink:href=\"#DejaVuSans-30\"/>\n       <use x=\"63.623047\" xlink:href=\"#DejaVuSans-2e\"/>\n       <use x=\"95.410156\" xlink:href=\"#DejaVuSans-30\"/>\n      </g>\n     </g>\n    </g>\n    <g id=\"xtick_2\">\n     <g id=\"line2d_2\">\n      <g>\n       <use style=\"stroke:#000000;stroke-width:0.8;\" x=\"136.088016\" xlink:href=\"#mdfbf29a1f6\" y=\"224.64\"/>\n      </g>\n     </g>\n     <g id=\"text_2\">\n      <!-- 0.2 -->\n      <g transform=\"translate(128.136454 239.238437)scale(0.1 -0.1)\">\n       <defs>\n        <path d=\"M 1228 531 \nL 3431 531 \nL 3431 0 \nL 469 0 \nL 469 531 \nQ 828 903 1448 1529 \nQ 2069 2156 2228 2338 \nQ 2531 2678 2651 2914 \nQ 2772 3150 2772 3378 \nQ 2772 3750 2511 3984 \nQ 2250 4219 1831 4219 \nQ 1534 4219 1204 4116 \nQ 875 4013 500 3803 \nL 500 4441 \nQ 881 4594 1212 4672 \nQ 1544 4750 1819 4750 \nQ 2544 4750 2975 4387 \nQ 3406 4025 3406 3419 \nQ 3406 3131 3298 2873 \nQ 3191 2616 2906 2266 \nQ 2828 2175 2409 1742 \nQ 1991 1309 1228 531 \nz\n\" id=\"DejaVuSans-32\" transform=\"scale(0.015625)\"/>\n       </defs>\n       <use xlink:href=\"#DejaVuSans-30\"/>\n       <use x=\"63.623047\" xlink:href=\"#DejaVuSans-2e\"/>\n       <use x=\"95.410156\" xlink:href=\"#DejaVuSans-32\"/>\n      </g>\n     </g>\n    </g>\n    <g id=\"xtick_3\">\n     <g id=\"line2d_3\">\n      <g>\n       <use style=\"stroke:#000000;stroke-width:0.8;\" x=\"184.031422\" xlink:href=\"#mdfbf29a1f6\" y=\"224.64\"/>\n      </g>\n     </g>\n     <g id=\"text_3\">\n      <!-- 0.4 -->\n      <g transform=\"translate(176.07986 239.238437)scale(0.1 -0.1)\">\n       <defs>\n        <path d=\"M 2419 4116 \nL 825 1625 \nL 2419 1625 \nL 2419 4116 \nz\nM 2253 4666 \nL 3047 4666 \nL 3047 1625 \nL 3713 1625 \nL 3713 1100 \nL 3047 1100 \nL 3047 0 \nL 2419 0 \nL 2419 1100 \nL 313 1100 \nL 313 1709 \nL 2253 4666 \nz\n\" id=\"DejaVuSans-34\" transform=\"scale(0.015625)\"/>\n       </defs>\n       <use xlink:href=\"#DejaVuSans-30\"/>\n       <use x=\"63.623047\" xlink:href=\"#DejaVuSans-2e\"/>\n       <use x=\"95.410156\" xlink:href=\"#DejaVuSans-34\"/>\n      </g>\n     </g>\n    </g>\n    <g id=\"xtick_4\">\n     <g id=\"line2d_4\">\n      <g>\n       <use style=\"stroke:#000000;stroke-width:0.8;\" x=\"231.974828\" xlink:href=\"#mdfbf29a1f6\" y=\"224.64\"/>\n      </g>\n     </g>\n     <g id=\"text_4\">\n      <!-- 0.6 -->\n      <g transform=\"translate(224.023265 239.238437)scale(0.1 -0.1)\">\n       <defs>\n        <path d=\"M 2113 2584 \nQ 1688 2584 1439 2293 \nQ 1191 2003 1191 1497 \nQ 1191 994 1439 701 \nQ 1688 409 2113 409 \nQ 2538 409 2786 701 \nQ 3034 994 3034 1497 \nQ 3034 2003 2786 2293 \nQ 2538 2584 2113 2584 \nz\nM 3366 4563 \nL 3366 3988 \nQ 3128 4100 2886 4159 \nQ 2644 4219 2406 4219 \nQ 1781 4219 1451 3797 \nQ 1122 3375 1075 2522 \nQ 1259 2794 1537 2939 \nQ 1816 3084 2150 3084 \nQ 2853 3084 3261 2657 \nQ 3669 2231 3669 1497 \nQ 3669 778 3244 343 \nQ 2819 -91 2113 -91 \nQ 1303 -91 875 529 \nQ 447 1150 447 2328 \nQ 447 3434 972 4092 \nQ 1497 4750 2381 4750 \nQ 2619 4750 2861 4703 \nQ 3103 4656 3366 4563 \nz\n\" id=\"DejaVuSans-36\" transform=\"scale(0.015625)\"/>\n       </defs>\n       <use xlink:href=\"#DejaVuSans-30\"/>\n       <use x=\"63.623047\" xlink:href=\"#DejaVuSans-2e\"/>\n       <use x=\"95.410156\" xlink:href=\"#DejaVuSans-36\"/>\n      </g>\n     </g>\n    </g>\n    <g id=\"xtick_5\">\n     <g id=\"line2d_5\">\n      <g>\n       <use style=\"stroke:#000000;stroke-width:0.8;\" x=\"279.918234\" xlink:href=\"#mdfbf29a1f6\" y=\"224.64\"/>\n      </g>\n     </g>\n     <g id=\"text_5\">\n      <!-- 0.8 -->\n      <g transform=\"translate(271.966671 239.238437)scale(0.1 -0.1)\">\n       <defs>\n        <path d=\"M 2034 2216 \nQ 1584 2216 1326 1975 \nQ 1069 1734 1069 1313 \nQ 1069 891 1326 650 \nQ 1584 409 2034 409 \nQ 2484 409 2743 651 \nQ 3003 894 3003 1313 \nQ 3003 1734 2745 1975 \nQ 2488 2216 2034 2216 \nz\nM 1403 2484 \nQ 997 2584 770 2862 \nQ 544 3141 544 3541 \nQ 544 4100 942 4425 \nQ 1341 4750 2034 4750 \nQ 2731 4750 3128 4425 \nQ 3525 4100 3525 3541 \nQ 3525 3141 3298 2862 \nQ 3072 2584 2669 2484 \nQ 3125 2378 3379 2068 \nQ 3634 1759 3634 1313 \nQ 3634 634 3220 271 \nQ 2806 -91 2034 -91 \nQ 1263 -91 848 271 \nQ 434 634 434 1313 \nQ 434 1759 690 2068 \nQ 947 2378 1403 2484 \nz\nM 1172 3481 \nQ 1172 3119 1398 2916 \nQ 1625 2713 2034 2713 \nQ 2441 2713 2670 2916 \nQ 2900 3119 2900 3481 \nQ 2900 3844 2670 4047 \nQ 2441 4250 2034 4250 \nQ 1625 4250 1398 4047 \nQ 1172 3844 1172 3481 \nz\n\" id=\"DejaVuSans-38\" transform=\"scale(0.015625)\"/>\n       </defs>\n       <use xlink:href=\"#DejaVuSans-30\"/>\n       <use x=\"63.623047\" xlink:href=\"#DejaVuSans-2e\"/>\n       <use x=\"95.410156\" xlink:href=\"#DejaVuSans-38\"/>\n      </g>\n     </g>\n    </g>\n    <g id=\"xtick_6\">\n     <g id=\"line2d_6\">\n      <g>\n       <use style=\"stroke:#000000;stroke-width:0.8;\" x=\"327.86164\" xlink:href=\"#mdfbf29a1f6\" y=\"224.64\"/>\n      </g>\n     </g>\n     <g id=\"text_6\">\n      <!-- 1.0 -->\n      <g transform=\"translate(319.910077 239.238437)scale(0.1 -0.1)\">\n       <defs>\n        <path d=\"M 794 531 \nL 1825 531 \nL 1825 4091 \nL 703 3866 \nL 703 4441 \nL 1819 4666 \nL 2450 4666 \nL 2450 531 \nL 3481 531 \nL 3481 0 \nL 794 0 \nL 794 531 \nz\n\" id=\"DejaVuSans-31\" transform=\"scale(0.015625)\"/>\n       </defs>\n       <use xlink:href=\"#DejaVuSans-31\"/>\n       <use x=\"63.623047\" xlink:href=\"#DejaVuSans-2e\"/>\n       <use x=\"95.410156\" xlink:href=\"#DejaVuSans-30\"/>\n      </g>\n     </g>\n    </g>\n   </g>\n   <g id=\"matplotlib.axis_2\">\n    <g id=\"ytick_1\">\n     <g id=\"line2d_7\">\n      <defs>\n       <path d=\"M 0 0 \nL -3.5 0 \n\" id=\"mc9ec08ec92\" style=\"stroke:#000000;stroke-width:0.8;\"/>\n      </defs>\n      <g>\n       <use style=\"stroke:#000000;stroke-width:0.8;\" x=\"40.603125\" xlink:href=\"#mc9ec08ec92\" y=\"224.64\"/>\n      </g>\n     </g>\n     <g id=\"text_7\">\n      <!-- 0 -->\n      <g transform=\"translate(27.240625 228.439219)scale(0.1 -0.1)\">\n       <use xlink:href=\"#DejaVuSans-30\"/>\n      </g>\n     </g>\n    </g>\n    <g id=\"ytick_2\">\n     <g id=\"line2d_8\">\n      <g>\n       <use style=\"stroke:#000000;stroke-width:0.8;\" x=\"40.603125\" xlink:href=\"#mc9ec08ec92\" y=\"181.074804\"/>\n      </g>\n     </g>\n     <g id=\"text_8\">\n      <!-- 10 -->\n      <g transform=\"translate(20.878125 184.874023)scale(0.1 -0.1)\">\n       <use xlink:href=\"#DejaVuSans-31\"/>\n       <use x=\"63.623047\" xlink:href=\"#DejaVuSans-30\"/>\n      </g>\n     </g>\n    </g>\n    <g id=\"ytick_3\">\n     <g id=\"line2d_9\">\n      <g>\n       <use style=\"stroke:#000000;stroke-width:0.8;\" x=\"40.603125\" xlink:href=\"#mc9ec08ec92\" y=\"137.509609\"/>\n      </g>\n     </g>\n     <g id=\"text_9\">\n      <!-- 20 -->\n      <g transform=\"translate(20.878125 141.308827)scale(0.1 -0.1)\">\n       <use xlink:href=\"#DejaVuSans-32\"/>\n       <use x=\"63.623047\" xlink:href=\"#DejaVuSans-30\"/>\n      </g>\n     </g>\n    </g>\n    <g id=\"ytick_4\">\n     <g id=\"line2d_10\">\n      <g>\n       <use style=\"stroke:#000000;stroke-width:0.8;\" x=\"40.603125\" xlink:href=\"#mc9ec08ec92\" y=\"93.944413\"/>\n      </g>\n     </g>\n     <g id=\"text_10\">\n      <!-- 30 -->\n      <g transform=\"translate(20.878125 97.743632)scale(0.1 -0.1)\">\n       <defs>\n        <path d=\"M 2597 2516 \nQ 3050 2419 3304 2112 \nQ 3559 1806 3559 1356 \nQ 3559 666 3084 287 \nQ 2609 -91 1734 -91 \nQ 1441 -91 1130 -33 \nQ 819 25 488 141 \nL 488 750 \nQ 750 597 1062 519 \nQ 1375 441 1716 441 \nQ 2309 441 2620 675 \nQ 2931 909 2931 1356 \nQ 2931 1769 2642 2001 \nQ 2353 2234 1838 2234 \nL 1294 2234 \nL 1294 2753 \nL 1863 2753 \nQ 2328 2753 2575 2939 \nQ 2822 3125 2822 3475 \nQ 2822 3834 2567 4026 \nQ 2313 4219 1838 4219 \nQ 1578 4219 1281 4162 \nQ 984 4106 628 3988 \nL 628 4550 \nQ 988 4650 1302 4700 \nQ 1616 4750 1894 4750 \nQ 2613 4750 3031 4423 \nQ 3450 4097 3450 3541 \nQ 3450 3153 3228 2886 \nQ 3006 2619 2597 2516 \nz\n\" id=\"DejaVuSans-33\" transform=\"scale(0.015625)\"/>\n       </defs>\n       <use xlink:href=\"#DejaVuSans-33\"/>\n       <use x=\"63.623047\" xlink:href=\"#DejaVuSans-30\"/>\n      </g>\n     </g>\n    </g>\n    <g id=\"ytick_5\">\n     <g id=\"line2d_11\">\n      <g>\n       <use style=\"stroke:#000000;stroke-width:0.8;\" x=\"40.603125\" xlink:href=\"#mc9ec08ec92\" y=\"50.379217\"/>\n      </g>\n     </g>\n     <g id=\"text_11\">\n      <!-- 40 -->\n      <g transform=\"translate(20.878125 54.178436)scale(0.1 -0.1)\">\n       <use xlink:href=\"#DejaVuSans-34\"/>\n       <use x=\"63.623047\" xlink:href=\"#DejaVuSans-30\"/>\n      </g>\n     </g>\n    </g>\n    <g id=\"text_12\">\n     <!-- Density -->\n     <g transform=\"translate(14.798438 134.928594)rotate(-90)scale(0.1 -0.1)\">\n      <defs>\n       <path d=\"M 1259 4147 \nL 1259 519 \nL 2022 519 \nQ 2988 519 3436 956 \nQ 3884 1394 3884 2338 \nQ 3884 3275 3436 3711 \nQ 2988 4147 2022 4147 \nL 1259 4147 \nz\nM 628 4666 \nL 1925 4666 \nQ 3281 4666 3915 4102 \nQ 4550 3538 4550 2338 \nQ 4550 1131 3912 565 \nQ 3275 0 1925 0 \nL 628 0 \nL 628 4666 \nz\n\" id=\"DejaVuSans-44\" transform=\"scale(0.015625)\"/>\n       <path d=\"M 3597 1894 \nL 3597 1613 \nL 953 1613 \nQ 991 1019 1311 708 \nQ 1631 397 2203 397 \nQ 2534 397 2845 478 \nQ 3156 559 3463 722 \nL 3463 178 \nQ 3153 47 2828 -22 \nQ 2503 -91 2169 -91 \nQ 1331 -91 842 396 \nQ 353 884 353 1716 \nQ 353 2575 817 3079 \nQ 1281 3584 2069 3584 \nQ 2775 3584 3186 3129 \nQ 3597 2675 3597 1894 \nz\nM 3022 2063 \nQ 3016 2534 2758 2815 \nQ 2500 3097 2075 3097 \nQ 1594 3097 1305 2825 \nQ 1016 2553 972 2059 \nL 3022 2063 \nz\n\" id=\"DejaVuSans-65\" transform=\"scale(0.015625)\"/>\n       <path d=\"M 3513 2113 \nL 3513 0 \nL 2938 0 \nL 2938 2094 \nQ 2938 2591 2744 2837 \nQ 2550 3084 2163 3084 \nQ 1697 3084 1428 2787 \nQ 1159 2491 1159 1978 \nL 1159 0 \nL 581 0 \nL 581 3500 \nL 1159 3500 \nL 1159 2956 \nQ 1366 3272 1645 3428 \nQ 1925 3584 2291 3584 \nQ 2894 3584 3203 3211 \nQ 3513 2838 3513 2113 \nz\n\" id=\"DejaVuSans-6e\" transform=\"scale(0.015625)\"/>\n       <path d=\"M 2834 3397 \nL 2834 2853 \nQ 2591 2978 2328 3040 \nQ 2066 3103 1784 3103 \nQ 1356 3103 1142 2972 \nQ 928 2841 928 2578 \nQ 928 2378 1081 2264 \nQ 1234 2150 1697 2047 \nL 1894 2003 \nQ 2506 1872 2764 1633 \nQ 3022 1394 3022 966 \nQ 3022 478 2636 193 \nQ 2250 -91 1575 -91 \nQ 1294 -91 989 -36 \nQ 684 19 347 128 \nL 347 722 \nQ 666 556 975 473 \nQ 1284 391 1588 391 \nQ 1994 391 2212 530 \nQ 2431 669 2431 922 \nQ 2431 1156 2273 1281 \nQ 2116 1406 1581 1522 \nL 1381 1569 \nQ 847 1681 609 1914 \nQ 372 2147 372 2553 \nQ 372 3047 722 3315 \nQ 1072 3584 1716 3584 \nQ 2034 3584 2315 3537 \nQ 2597 3491 2834 3397 \nz\n\" id=\"DejaVuSans-73\" transform=\"scale(0.015625)\"/>\n       <path d=\"M 603 3500 \nL 1178 3500 \nL 1178 0 \nL 603 0 \nL 603 3500 \nz\nM 603 4863 \nL 1178 4863 \nL 1178 4134 \nL 603 4134 \nL 603 4863 \nz\n\" id=\"DejaVuSans-69\" transform=\"scale(0.015625)\"/>\n       <path d=\"M 1172 4494 \nL 1172 3500 \nL 2356 3500 \nL 2356 3053 \nL 1172 3053 \nL 1172 1153 \nQ 1172 725 1289 603 \nQ 1406 481 1766 481 \nL 2356 481 \nL 2356 0 \nL 1766 0 \nQ 1100 0 847 248 \nQ 594 497 594 1153 \nL 594 3053 \nL 172 3053 \nL 172 3500 \nL 594 3500 \nL 594 4494 \nL 1172 4494 \nz\n\" id=\"DejaVuSans-74\" transform=\"scale(0.015625)\"/>\n       <path d=\"M 2059 -325 \nQ 1816 -950 1584 -1140 \nQ 1353 -1331 966 -1331 \nL 506 -1331 \nL 506 -850 \nL 844 -850 \nQ 1081 -850 1212 -737 \nQ 1344 -625 1503 -206 \nL 1606 56 \nL 191 3500 \nL 800 3500 \nL 1894 763 \nL 2988 3500 \nL 3597 3500 \nL 2059 -325 \nz\n\" id=\"DejaVuSans-79\" transform=\"scale(0.015625)\"/>\n      </defs>\n      <use xlink:href=\"#DejaVuSans-44\"/>\n      <use x=\"77.001953\" xlink:href=\"#DejaVuSans-65\"/>\n      <use x=\"138.525391\" xlink:href=\"#DejaVuSans-6e\"/>\n      <use x=\"201.904297\" xlink:href=\"#DejaVuSans-73\"/>\n      <use x=\"254.003906\" xlink:href=\"#DejaVuSans-69\"/>\n      <use x=\"281.787109\" xlink:href=\"#DejaVuSans-74\"/>\n      <use x=\"320.996094\" xlink:href=\"#DejaVuSans-79\"/>\n     </g>\n    </g>\n   </g>\n   <g id=\"line2d_12\">\n    <path clip-path=\"url(#p8e55585ce6)\" d=\"M 55.821307 224.231615 \nL 58.880238 223.720686 \nL 60.409703 223.301761 \nL 61.939169 222.730795 \nL 63.468634 221.970561 \nL 64.9981 220.982064 \nL 66.527565 219.727519 \nL 68.057031 218.174319 \nL 69.586496 216.299802 \nL 71.115962 214.096445 \nL 72.645427 211.576894 \nL 75.704358 205.763947 \nL 80.292755 196.45142 \nL 81.82222 193.692575 \nL 83.351686 191.341514 \nL 84.881151 189.526581 \nL 86.410617 188.351384 \nL 87.940083 187.885006 \nL 89.469548 188.155285 \nL 90.999014 189.14606 \nL 92.528479 190.798771 \nL 94.057945 193.018191 \nL 95.58741 195.681508 \nL 98.646341 201.778729 \nL 101.705272 207.989801 \nL 103.234738 210.853566 \nL 104.764203 213.452498 \nL 106.293669 215.742604 \nL 107.823134 217.705081 \nL 109.3526 219.342529 \nL 110.882065 220.674076 \nL 112.411531 221.730162 \nL 113.940996 222.547613 \nL 115.470462 223.165436 \nL 116.999927 223.621563 \nL 120.058858 224.182679 \nL 123.117789 224.450547 \nL 127.706186 224.59657 \nL 139.94191 224.639648 \nL 300.535788 224.563523 \nL 306.65365 224.365253 \nL 312.771512 223.924982 \nL 325.007236 222.799147 \nL 328.066167 222.733744 \nL 332.654564 222.913012 \nL 338.772426 223.498223 \nL 346.419754 224.207445 \nL 352.537616 224.501553 \nL 360.184943 224.61882 \nL 360.184943 224.61882 \n\" style=\"fill:none;stroke:#1f77b4;stroke-linecap:square;stroke-width:1.5;\"/>\n   </g>\n   <g id=\"patch_53\">\n    <path d=\"M 40.603125 224.64 \nL 40.603125 7.2 \n\" style=\"fill:none;stroke:#000000;stroke-linecap:square;stroke-linejoin:miter;stroke-width:0.8;\"/>\n   </g>\n   <g id=\"patch_54\">\n    <path d=\"M 375.403125 224.64 \nL 375.403125 7.2 \n\" style=\"fill:none;stroke:#000000;stroke-linecap:square;stroke-linejoin:miter;stroke-width:0.8;\"/>\n   </g>\n   <g id=\"patch_55\">\n    <path d=\"M 40.603125 224.64 \nL 375.403125 224.64 \n\" style=\"fill:none;stroke:#000000;stroke-linecap:square;stroke-linejoin:miter;stroke-width:0.8;\"/>\n   </g>\n   <g id=\"patch_56\">\n    <path d=\"M 40.603125 7.2 \nL 375.403125 7.2 \n\" style=\"fill:none;stroke:#000000;stroke-linecap:square;stroke-linejoin:miter;stroke-width:0.8;\"/>\n   </g>\n  </g>\n </g>\n <defs>\n  <clipPath id=\"p8e55585ce6\">\n   <rect height=\"217.44\" width=\"334.8\" x=\"40.603125\" y=\"7.2\"/>\n  </clipPath>\n </defs>\n</svg>\n",
      "image/png": "[encoded data removed]"
     },
     "metadata": {
      "needs_background": "light"
     }
    }
   ],
   "source": [
    "sample_df = df.select(['stroke']).sample(False, 0.5, 42)\n",
    "pandas_df = sample_df.toPandas()\n",
    "sns.distplot(pandas_df)"
   ]
  },
  {
   "cell_type": "code",
   "execution_count": 8,
   "metadata": {},
   "outputs": [
    {
     "output_type": "stream",
     "name": "stdout",
     "text": [
      "+-------------+-----------------------+\n|    work_type|percentage_of_work_type|\n+-------------+-----------------------+\n|     children|                   0.04|\n|     Govt_job|                   0.65|\n|Self-employed|                   1.27|\n|      Private|                   2.92|\n+-------------+-----------------------+\n\n"
     ]
    }
   ],
   "source": [
    "#influence of work type on getting stroke\n",
    "#more private\n",
    "df_work_type_stroke = df.groupBy('work_type', 'stroke').count().select('stroke','work_type',f.col('count').alias('work_type_count')).withColumn('percentage_of_work_type',(f.col('work_type_count') / df.count()) * 100 ).filter(df['stroke'] == 1).select('work_type',(format_number('percentage_of_work_type',2).alias('percentage_of_work_type'))).orderBy('work_type_count')\n",
    "\n",
    "\n",
    "df_work_type_stroke.show()"
   ]
  },
  {
   "cell_type": "code",
   "execution_count": 9,
   "metadata": {},
   "outputs": [
    {
     "output_type": "stream",
     "name": "stdout",
     "text": [
      "+------+-------------+-----------------------+\n|gender|    work_type|percentage_of_work_type|\n+------+-------------+-----------------------+\n|Female|     Govt_job|                   0.45|\n|  Male|     Govt_job|                   0.20|\n|  Male|      Private|                   1.43|\n|Female|      Private|                   1.49|\n|Female|Self-employed|                   0.78|\n|  Male|Self-employed|                   0.49|\n|Female|     children|                   0.04|\n+------+-------------+-----------------------+\n\n"
     ]
    }
   ],
   "source": [
    "#influence of work type on getting stroke and gender\n",
    "#more women in general and women in private\n",
    "df_work_stroke_gender = df.groupBy('gender','work_type','stroke').count().select('gender','stroke','work_type',f.col('count').alias('work_type_count')).withColumn('percentage_of_work_type',(f.col('work_type_count') / df.count()) * 100 ).filter(df['stroke'] == 1).select('gender','work_type',(format_number('percentage_of_work_type',2).alias('percentage_of_work_type'))).orderBy('work_type')\n",
    "\n",
    "\n",
    "df_work_stroke_gender.show()"
   ]
  },
  {
   "cell_type": "code",
   "execution_count": 10,
   "metadata": {},
   "outputs": [
    {
     "output_type": "stream",
     "name": "stdout",
     "text": [
      "+-------------+-------------------------+\n|    work_type|percentage_of_work_over50|\n+-------------+-------------------------+\n|Self-employed|                     1.19|\n|      Private|                     2.60|\n|     Govt_job|                     0.63|\n+-------------+-------------------------+\n\n"
     ]
    }
   ],
   "source": [
    "#influence of work type on getting stroke over 50  *******************************************\n",
    "#more private\n",
    "\n",
    "df_work_age = df.select('age','work_type','stroke').filter((df['stroke'] == 1) & (df['age'] > '50')).groupBy('work_type').count().withColumn('percentage_of_work_over50',(f.col('count') / df.count()) * 100 ).select('work_type',(format_number('percentage_of_work_over50',2).alias('percentage_of_work_over50'))) \n",
    "\n",
    "df_work_age.show()"
   ]
  },
  {
   "cell_type": "code",
   "execution_count": 11,
   "metadata": {},
   "outputs": [
    {
     "output_type": "stream",
     "name": "stdout",
     "text": [
      "+------+------------+--------------------+\n|gender|count_gender|percentage_of_gender|\n+------+------------+--------------------+\n| Other|           1|                0.02|\n|  Male|        2115|               41.39|\n|Female|        2994|               58.59|\n+------+------------+--------------------+\n\n"
     ]
    }
   ],
   "source": [
    "#participated in this clinic measurement\n",
    "#58% Female. 41% Male\n",
    "df_mes = df.groupBy('gender').count().select('gender',f.col('count').alias('count_gender')).withColumn('percentage_of_gender',(f.col('count_gender') / df.count()) * 100 ).select('gender','count_gender',(format_number('percentage_of_gender',2).alias('percentage_of_gender'))).orderBy('count_gender')\n",
    "\n",
    "df_mes.show()"
   ]
  },
  {
   "cell_type": "code",
   "execution_count": 12,
   "metadata": {},
   "outputs": [
    {
     "output_type": "stream",
     "name": "stdout",
     "text": [
      "+------+------------+--------------------+\n",
      "|gender|count_gender|percentage_of_stroke|\n",
      "+------+------------+--------------------+\n",
      "|  Male|         108|                2.11|\n",
      "+------+------------+--------------------+\n",
      "\n",
      "+------+------------+--------------------+\n",
      "|gender|count_gender|percentage_of_stroke|\n",
      "+------+------------+--------------------+\n",
      "|Female|         141|                2.76|\n",
      "+------+------------+--------------------+\n",
      "\n"
     ]
    }
   ],
   "source": [
    "# how many female/male have a stroke\n",
    "# 2,11% Male. 2,76% Female\n",
    "df_gen_str_M = df.groupBy('gender', 'stroke').count().select('gender',f.col('count').alias('count_gender')).withColumn('percentage_of_stroke',(f.col('count_gender') / df.count()) * 100 ).filter((df['stroke'] == 1) & (df['gender'] == 'Male')).select('gender','count_gender',(format_number('percentage_of_stroke',2).alias('percentage_of_stroke')))\n",
    "\n",
    "df_gen_str_M.show()\n",
    "\n",
    "df_gen_str_F = df.groupBy('gender', 'stroke').count().select('gender',f.col('count').alias('count_gender')).withColumn('percentage_of_stroke',(f.col('count_gender') / df.count()) * 100 ).filter((df['stroke'] == 1) & (df['gender'] == 'Female')).select('gender','count_gender',(format_number('percentage_of_stroke',2).alias('percentage_of_stroke')))\n",
    "\n",
    "df_gen_str_F.show()"
   ]
  },
  {
   "cell_type": "code",
   "execution_count": 13,
   "metadata": {},
   "outputs": [
    {
     "output_type": "stream",
     "name": "stdout",
     "text": [
      "+------+------------+--------------------+\n|gender|count_gender|percentage_of_stroke|\n+------+------------+--------------------+\n|Female|          19|                0.37|\n|  Male|          28|                0.55|\n+------+------------+--------------------+\n\n"
     ]
    }
   ],
   "source": [
    "#people have heart disease and stroke\n",
    "df_stroke_heartdisease = df.groupBy('gender', 'stroke', 'heart_disease').count().select('gender',f.col('count').alias('count_gender')).withColumn('percentage_of_stroke',(f.col('count_gender') / df.count()) * 100 ).filter((df['stroke'] == 1) & (df['heart_disease'] == '1')).select('gender','count_gender',(format_number('percentage_of_stroke',2).alias('percentage_of_stroke'))).orderBy('count_gender')\n",
    "\n",
    "df_stroke_heartdisease.show()"
   ]
  },
  {
   "cell_type": "code",
   "execution_count": 14,
   "metadata": {},
   "outputs": [
    {
     "output_type": "stream",
     "name": "stdout",
     "text": [
      "+------+------------+--------------------+\n|gender|count_gender|percentage_of_stroke|\n+------+------------+--------------------+\n|  Male|          27|                0.53|\n|Female|          39|                0.76|\n+------+------------+--------------------+\n\n"
     ]
    }
   ],
   "source": [
    "#people have hypertension and stroke\n",
    "df_stroke_hypertension = df.groupBy('gender', 'stroke', 'hypertension').count().select('gender',f.col('count').alias('count_gender')).withColumn('percentage_of_stroke',(f.col('count_gender') / df.count()) * 100 ).filter((df['stroke'] == 1) & (df['hypertension'] == '1')).select('gender','count_gender',(format_number('percentage_of_stroke',2).alias('percentage_of_stroke'))).orderBy('count_gender')\n",
    "\n",
    "df_stroke_hypertension.show()"
   ]
  },
  {
   "cell_type": "code",
   "execution_count": 15,
   "metadata": {},
   "outputs": [
    {
     "output_type": "stream",
     "name": "stdout",
     "text": [
      "+------+------------+--------------------+\n|gender|count_gender|percentage_of_stroke|\n+------+------------+--------------------+\n|Female|           7|                0.14|\n|  Male|           6|                0.12|\n+------+------------+--------------------+\n\n"
     ]
    }
   ],
   "source": [
    "#people have heart disease and hypertension and stroke\n",
    "df_stroke_heartd_hyperd = df.groupBy('gender', 'stroke', 'heart_disease','hypertension').count().select('gender',f.col('count').alias('count_gender')).withColumn('percentage_of_stroke',(f.col('count_gender') / df.count()) * 100 ).filter((df['stroke'] == 1) & (df['heart_disease'] == '1') & (df['hypertension'] == '1')).select('gender','count_gender',(format_number('percentage_of_stroke',2).alias('percentage_of_stroke')))\n",
    "\n",
    "df_stroke_heartd_hyperd.show()"
   ]
  },
  {
   "cell_type": "code",
   "execution_count": 16,
   "metadata": {},
   "outputs": [
    {
     "output_type": "stream",
     "name": "stdout",
     "text": [
      "+---------------+--------------------+--------------------+\n| smoking_status|count_smoking_status|percentage_of_stroke|\n+---------------+--------------------+--------------------+\n|         smokes|                  42|                0.82|\n|        Unknown|                  47|                0.92|\n|formerly smoked|                  70|                1.37|\n|   never smoked|                  90|                1.76|\n+---------------+--------------------+--------------------+\n\n"
     ]
    }
   ],
   "source": [
    "#influence of smoking_status on getting stroke\n",
    "df_stroke_smoking= df.groupBy('smoking_status', 'stroke').count().select('smoking_status',f.col('count').alias('count_smoking_status')).withColumn('percentage_of_stroke',(f.col('count_smoking_status') / df.count()) * 100 ).filter((df['stroke'] == 1)).select('smoking_status','count_smoking_status',(format_number('percentage_of_stroke',2).alias('percentage_of_stroke'))).orderBy('count_smoking_status')\n",
    "\n",
    "df_stroke_smoking.show()"
   ]
  },
  {
   "cell_type": "code",
   "execution_count": 17,
   "metadata": {},
   "outputs": [
    {
     "output_type": "stream",
     "name": "stdout",
     "text": [
      "+---------------+--------------------+---------------------------+\n| smoking_status|count_smoking_status|percentage_of_stroke_Female|\n+---------------+--------------------+---------------------------+\n|         smokes|                  19|                       0.37|\n|        Unknown|                  25|                       0.49|\n|formerly smoked|                  34|                       0.67|\n|   never smoked|                  63|                       1.23|\n+---------------+--------------------+---------------------------+\n\n"
     ]
    }
   ],
   "source": [
    "#influence of smoking_status  and gender\n",
    "df_stroke_smoking_Female= df.groupBy('smoking_status', 'stroke', 'gender').count().select('gender','smoking_status',f.col('count').alias('count_smoking_status')).withColumn('percentage_of_stroke',(f.col('count_smoking_status') / df.count()) * 100 ).filter((df['stroke'] == 1) & (df['gender'] == 'Female')).select('smoking_status','count_smoking_status',(format_number('percentage_of_stroke',2).alias('percentage_of_stroke_Female'))).orderBy('count_smoking_status')\n",
    "\n",
    "df_stroke_smoking_Female.show()"
   ]
  },
  {
   "cell_type": "code",
   "execution_count": 18,
   "metadata": {},
   "outputs": [
    {
     "output_type": "stream",
     "name": "stdout",
     "text": [
      "+---------------+--------------------+-------------------------+\n| smoking_status|count_smoking_status|percentage_of_stroke_Male|\n+---------------+--------------------+-------------------------+\n|        Unknown|                  22|                     0.43|\n|         smokes|                  23|                     0.45|\n|   never smoked|                  27|                     0.53|\n|formerly smoked|                  36|                     0.70|\n+---------------+--------------------+-------------------------+\n\n"
     ]
    }
   ],
   "source": [
    "#influence of smoking_status on getting stroke\n",
    "df_stroke_smoking_Male= df.groupBy('smoking_status', 'stroke', 'gender').count().select('gender','smoking_status',f.col('count').alias('count_smoking_status')).withColumn('percentage_of_stroke',(f.col('count_smoking_status') / df.count()) * 100 ).filter((df['stroke'] == 1) & (df['gender'] == 'Male')).select('smoking_status','count_smoking_status',(format_number('percentage_of_stroke',2).alias('percentage_of_stroke_Male'))).orderBy('count_smoking_status')\n",
    "df_stroke_smoking_Male.show()"
   ]
  },
  {
   "cell_type": "code",
   "execution_count": 19,
   "metadata": {},
   "outputs": [
    {
     "output_type": "stream",
     "name": "stdout",
     "text": [
      "+--------------+--------------------+--------------------+\n|Residence_type|count_Residence_type|percentage_of_stroke|\n+--------------+--------------------+--------------------+\n|         Rural|                 114|                2.23|\n|         Urban|                 135|                2.64|\n+--------------+--------------------+--------------------+\n\n"
     ]
    }
   ],
   "source": [
    "#influence of Residence_type on getting stroke \n",
    "df_stroke_restype= df.groupBy('Residence_type', 'stroke').count().select('Residence_type',f.col('count').alias('count_Residence_type')).withColumn('percentage_of_stroke',(f.col('count_Residence_type') / df.count()) * 100 ).filter((df['stroke'] == 1)).select('Residence_type','count_Residence_type',(format_number('percentage_of_stroke',2).alias('percentage_of_stroke'))).orderBy('count_Residence_type')\n",
    "\n",
    "df_stroke_restype.show()"
   ]
  },
  {
   "cell_type": "code",
   "execution_count": 20,
   "metadata": {},
   "outputs": [
    {
     "output_type": "stream",
     "name": "stdout",
     "text": [
      "+------------+------------------+--------------------+\n|ever_married|count_ever_married|percentage_of_stroke|\n+------------+------------------+--------------------+\n|          No|                29|                0.57|\n|         Yes|               220|                4.31|\n+------------+------------------+--------------------+\n\n"
     ]
    }
   ],
   "source": [
    "#influence of ever_married on getting stroke\n",
    "#if married more influence on getting stroke\n",
    "df_stroke_ever_married= df.groupBy('ever_married', 'stroke').count().select('ever_married',f.col('count').alias('count_ever_married')).withColumn('percentage_of_stroke',(f.col('count_ever_married') / df.count()) * 100 ).filter((df['stroke'] == 1)).select('ever_married','count_ever_married',(format_number('percentage_of_stroke',2).alias('percentage_of_stroke'))).orderBy('count_ever_married')\n",
    "\n",
    "df_stroke_ever_married.show()"
   ]
  },
  {
   "cell_type": "code",
   "execution_count": 21,
   "metadata": {},
   "outputs": [
    {
     "output_type": "stream",
     "name": "stdout",
     "text": [
      "+------+------------+------------------+--------------------+\n|gender|ever_married|count_ever_married|percentage_of_stroke|\n+------+------------+------------------+--------------------+\n|  Male|          No|                 8|                0.16|\n|Female|          No|                21|                0.41|\n|  Male|         Yes|               100|                1.96|\n|Female|         Yes|               120|                2.35|\n+------+------------+------------------+--------------------+\n\n"
     ]
    }
   ],
   "source": [
    "#influence of ever_married on getting stroke by gender (general Female are at risk to have a stoke)\n",
    "df_stroke_ever_married= df.groupBy('gender','ever_married', 'stroke').count().select('gender','ever_married',f.col('count').alias('count_ever_married')).withColumn('percentage_of_stroke',(f.col('count_ever_married') / df.count()) * 100 ).filter((df['stroke'] == 1)).select('gender','ever_married','count_ever_married',(format_number('percentage_of_stroke',2).alias('percentage_of_stroke'))).orderBy('count_ever_married')\n",
    "\n",
    "df_stroke_ever_married.show()\n"
   ]
  },
  {
   "cell_type": "code",
   "execution_count": 22,
   "metadata": {},
   "outputs": [
    {
     "output_type": "stream",
     "name": "stdout",
     "text": [
      "+------------+------------------------+\n|hypertension|percentage_of_hyp_over50|\n+------------+------------------------+\n|           1|                    1.23|\n|           0|                    3.19|\n+------------+------------------------+\n\n"
     ]
    }
   ],
   "source": [
    "#people have hypertension and stroke and over 50 or dont have hypertension\n",
    "df_hyp_age = df.select('age','hypertension','stroke').filter((df['stroke'] == 1) & (df['age'] > '50')).groupBy('hypertension').count().withColumn('percentage_of_hyp_over50',(f.col('count') / df.count()) * 100 ).select('hypertension',(format_number('percentage_of_hyp_over50',2).alias('percentage_of_hyp_over50'))) \n",
    "\n",
    "df_hyp_age.show()\n",
    "\n",
    "\n"
   ]
  },
  {
   "cell_type": "code",
   "execution_count": 23,
   "metadata": {},
   "outputs": [
    {
     "output_type": "stream",
     "name": "stdout",
     "text": [
      "+-------------+--------------------------+\n|heart_disease|percentage_of_heart_over50|\n+-------------+--------------------------+\n|            1|                      0.92|\n|            0|                      3.50|\n+-------------+--------------------------+\n\n"
     ]
    }
   ],
   "source": [
    "#people have heart_disease and stroke and over 50 or dont have heart_disease\n",
    "df_heart_age = df.select('age','heart_disease','stroke').filter((df['stroke'] == 1) & (df['age'] > '50')).groupBy('heart_disease').count().withColumn('percentage_of_heart_over50',(f.col('count') / df.count()) * 100 ).select('heart_disease',(format_number('percentage_of_heart_over50',2).alias('percentage_of_heart_over50'))) \n",
    "\n",
    "df_heart_age.show()"
   ]
  },
  {
   "cell_type": "code",
   "execution_count": 24,
   "metadata": {},
   "outputs": [
    {
     "output_type": "execute_result",
     "data": {
      "text/plain": [
       "226"
      ]
     },
     "metadata": {},
     "execution_count": 24
    }
   ],
   "source": [
    "#people have a troke over 50\n",
    "df.filter((df['stroke'] == 1) & (df['age'] > '50')).count()\n"
   ]
  },
  {
   "cell_type": "code",
   "execution_count": 25,
   "metadata": {},
   "outputs": [
    {
     "output_type": "execute_result",
     "data": {
      "text/plain": [
       "4.422700587084149"
      ]
     },
     "metadata": {},
     "execution_count": 25
    }
   ],
   "source": [
    "#percentage person over 50 that have stroke\n",
    "#4.4 %\n",
    "df_age_per = ((df.filter((df['stroke'] == 1) & (df['age'] > '50')).count() ) / df.count() ) * 100 \n",
    "df_age_per"
   ]
  },
  {
   "cell_type": "code",
   "execution_count": 26,
   "metadata": {},
   "outputs": [
    {
     "output_type": "execute_result",
     "data": {
      "text/plain": [
       "249"
      ]
     },
     "metadata": {},
     "execution_count": 26
    }
   ],
   "source": [
    "#people have a stroke\n",
    "df.filter((df['stroke'] == 1)).count()"
   ]
  },
  {
   "cell_type": "code",
   "execution_count": 27,
   "metadata": {},
   "outputs": [
    {
     "output_type": "execute_result",
     "data": {
      "text/plain": [
       "4.87279843444227"
      ]
     },
     "metadata": {},
     "execution_count": 27
    }
   ],
   "source": [
    "#percentage person that have stroke\n",
    "#0.39 %\n",
    "df_age_per1 = ((df.filter((df['stroke'] == 1)).count() ) / df.count() ) * 100 \n",
    "df_age_per1"
   ]
  },
  {
   "cell_type": "code",
   "execution_count": 30,
   "metadata": {},
   "outputs": [
    {
     "output_type": "error",
     "ename": "NameError",
     "evalue": "name 'F' is not defined",
     "traceback": [
      "\u001b[0;31m---------------------------------------------------------------------------\u001b[0m",
      "\u001b[0;31mNameError\u001b[0m                                 Traceback (most recent call last)",
      "\u001b[0;32m<ipython-input-30-1e4d9801a68c>\u001b[0m in \u001b[0;36m<module>\u001b[0;34m\u001b[0m\n\u001b[0;32m----> 1\u001b[0;31m \u001b[0mdf_avg\u001b[0m \u001b[0;34m=\u001b[0m \u001b[0mdf\u001b[0m\u001b[0;34m.\u001b[0m\u001b[0mgroupBy\u001b[0m\u001b[0;34m(\u001b[0m\u001b[0;34m\"stroke\"\u001b[0m\u001b[0;34m)\u001b[0m\u001b[0;34m.\u001b[0m\u001b[0magg\u001b[0m\u001b[0;34m(\u001b[0m\u001b[0mF\u001b[0m\u001b[0;34m.\u001b[0m\u001b[0mmean\u001b[0m\u001b[0;34m(\u001b[0m\u001b[0;34m'bmi'\u001b[0m\u001b[0;34m)\u001b[0m\u001b[0;34m,\u001b[0m \u001b[0mF\u001b[0m\u001b[0;34m.\u001b[0m\u001b[0mmean\u001b[0m\u001b[0;34m(\u001b[0m\u001b[0;34m'age'\u001b[0m\u001b[0;34m)\u001b[0m\u001b[0;34m,\u001b[0m \u001b[0mF\u001b[0m\u001b[0;34m.\u001b[0m\u001b[0mmean\u001b[0m\u001b[0;34m(\u001b[0m\u001b[0;34m'avg_glucose_level'\u001b[0m\u001b[0;34m)\u001b[0m\u001b[0;34m)\u001b[0m\u001b[0;34m\u001b[0m\u001b[0;34m\u001b[0m\u001b[0m\n\u001b[0m\u001b[1;32m      2\u001b[0m \u001b[0mdf_avg\u001b[0m\u001b[0;34m.\u001b[0m\u001b[0mshow\u001b[0m\u001b[0;34m(\u001b[0m\u001b[0;34m)\u001b[0m\u001b[0;34m\u001b[0m\u001b[0;34m\u001b[0m\u001b[0m\n",
      "\u001b[0;31mNameError\u001b[0m: name 'F' is not defined"
     ]
    }
   ],
   "source": [
    "\n",
    "df_avg = df.groupBy(\"stroke\").agg(F.mean('bmi'), F.mean('age'), F.mean('avg_glucose_level'))\n",
    "df_avg.show()"
   ]
  },
  {
   "cell_type": "code",
   "execution_count": 34,
   "metadata": {},
   "outputs": [
    {
     "output_type": "stream",
     "name": "stdout",
     "text": [
      "+---+------+---+------------+-------------+------------+---------+--------------+-----------------+---+--------------+------+\n| id|gender|age|hypertension|heart_disease|ever_married|work_type|Residence_type|avg_glucose_level|bmi|smoking_status|stroke|\n+---+------+---+------------+-------------+------------+---------+--------------+-----------------+---+--------------+------+\n|  0|     0|  0|           0|            0|           0|        0|             0|                0|201|          1544|     0|\n+---+------+---+------------+-------------+------------+---------+--------------+-----------------+---+--------------+------+\n\n"
     ]
    }
   ],
   "source": [
    "#remove columns with missing values\n",
    "\n",
    "\n",
    "from pyspark.sql.functions import col\n",
    "myDF = df.select([F.count(F.when(F.isnan(i) | \\\n",
    "                                   F.col(i).contains('N/A') | \\\n",
    "                                   F.col(i).contains('Unknown') | \\\n",
    "                                   F.col(i).isNull(), i)).alias(i) \\\n",
    "                    for i in df.columns])\n",
    "\n",
    "\n",
    "myDF.show()"
   ]
  },
  {
   "cell_type": "code",
   "execution_count": 40,
   "metadata": {},
   "outputs": [
    {
     "output_type": "stream",
     "name": "stdout",
     "text": [
      "root\n |-- id: integer (nullable = true)\n |-- gender: string (nullable = true)\n |-- age: double (nullable = true)\n |-- hypertension: integer (nullable = true)\n |-- heart_disease: integer (nullable = true)\n |-- ever_married: string (nullable = true)\n |-- work_type: string (nullable = true)\n |-- Residence_type: string (nullable = true)\n |-- avg_glucose_level: double (nullable = true)\n |-- stroke: integer (nullable = true)\n\n"
     ]
    }
   ],
   "source": [
    "df_remCol = df.drop(\"bmi\",\"smoking_status\")\n",
    "df_remCol.printSchema()"
   ]
  },
  {
   "cell_type": "code",
   "execution_count": 41,
   "metadata": {},
   "outputs": [
    {
     "output_type": "execute_result",
     "data": {
      "text/plain": [
       "Row(avg(bmi)=28.893236911794673)"
      ]
     },
     "metadata": {},
     "execution_count": 41
    }
   ],
   "source": [
    "#complete missing values with avg of the column \n",
    "\n",
    "#the average of the column\n",
    "df.agg({'bmi': 'avg'}).collect()[0]\n"
   ]
  },
  {
   "cell_type": "code",
   "execution_count": 43,
   "metadata": {},
   "outputs": [
    {
     "output_type": "stream",
     "name": "stdout",
     "text": [
      "+-----+------+----+------------+-------------+------------+-------------+--------------+-----------------+-----+------+\n|   id|gender| age|hypertension|heart_disease|ever_married|    work_type|Residence_type|avg_glucose_level|  bmi|stroke|\n+-----+------+----+------------+-------------+------------+-------------+--------------+-----------------+-----+------+\n| 9046|  Male|67.0|           0|            1|         Yes|      Private|         Urban|           228.69| 36.6|     1|\n|51676|Female|61.0|           0|            0|         Yes|Self-employed|         Rural|           202.21|28.89|     1|\n|31112|  Male|80.0|           0|            1|         Yes|      Private|         Rural|           105.92| 32.5|     1|\n|60182|Female|49.0|           0|            0|         Yes|      Private|         Urban|           171.23| 34.4|     1|\n| 1665|Female|79.0|           1|            0|         Yes|Self-employed|         Rural|           174.12|   24|     1|\n|56669|  Male|81.0|           0|            0|         Yes|      Private|         Urban|           186.21|   29|     1|\n|53882|  Male|74.0|           1|            1|         Yes|      Private|         Rural|            70.09| 27.4|     1|\n|10434|Female|69.0|           0|            0|          No|      Private|         Urban|            94.39| 22.8|     1|\n|27419|Female|59.0|           0|            0|         Yes|      Private|         Rural|            76.15|28.89|     1|\n|60491|Female|78.0|           0|            0|         Yes|      Private|         Urban|            58.57| 24.2|     1|\n|12109|Female|81.0|           1|            0|         Yes|      Private|         Rural|            80.43| 29.7|     1|\n|12095|Female|61.0|           0|            1|         Yes|     Govt_job|         Rural|           120.46| 36.8|     1|\n|12175|Female|54.0|           0|            0|         Yes|      Private|         Urban|           104.51| 27.3|     1|\n| 8213|  Male|78.0|           0|            1|         Yes|      Private|         Urban|           219.84|28.89|     1|\n| 5317|Female|79.0|           0|            1|         Yes|      Private|         Urban|           214.09| 28.2|     1|\n|58202|Female|50.0|           1|            0|         Yes|Self-employed|         Rural|           167.41| 30.9|     1|\n|56112|  Male|64.0|           0|            1|         Yes|      Private|         Urban|           191.61| 37.5|     1|\n|34120|  Male|75.0|           1|            0|         Yes|      Private|         Urban|           221.29| 25.8|     1|\n|27458|Female|60.0|           0|            0|          No|      Private|         Urban|            89.22| 37.8|     1|\n|25226|  Male|57.0|           0|            1|          No|     Govt_job|         Urban|           217.08|28.89|     1|\n+-----+------+----+------------+-------------+------------+-------------+--------------+-----------------+-----+------+\nonly showing top 20 rows\n\n"
     ]
    }
   ],
   "source": [
    "# the completed data with column smoking status\n",
    "df_replace = df.na.replace(['N/A'],['28.89'])\n",
    "#the data without column smoking status \n",
    "df_replace = df_replace.drop(\"smoking_status\")\n",
    "df_replace.show()"
   ]
  },
  {
   "cell_type": "code",
   "execution_count": null,
   "metadata": {},
   "outputs": [],
   "source": []
  }
 ]
}