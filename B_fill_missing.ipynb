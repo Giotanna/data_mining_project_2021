{
 "metadata": {
  "language_info": {
   "codemirror_mode": {
    "name": "ipython",
    "version": 3
   },
   "file_extension": ".py",
   "mimetype": "text/x-python",
   "name": "python",
   "nbconvert_exporter": "python",
   "pygments_lexer": "ipython3",
   "version": "3.8.5"
  },
  "orig_nbformat": 2,
  "kernelspec": {
   "name": "python3",
   "display_name": "Python 3",
   "language": "python"
  }
 },
 "nbformat": 4,
 "nbformat_minor": 2,
 "cells": [
  {
   "cell_type": "code",
   "execution_count": 4,
   "metadata": {},
   "outputs": [],
   "source": [
    "from pyspark.sql import SparkSession\n",
    "import pyspark.sql.functions as F\n",
    "\n",
    "spark = SparkSession.builder.appName('Basics').getOrCreate()\n",
    "\n",
    "df = spark.read.csv('healthcare-dataset-stroke-data.csv', inferSchema=True,header=True)"
   ]
  },
  {
   "cell_type": "code",
   "execution_count": 5,
   "metadata": {},
   "outputs": [
    {
     "output_type": "stream",
     "name": "stdout",
     "text": [
      "+---+------+---+------------+-------------+------------+---------+--------------+-----------------+---+--------------+------+\n",
      "| id|gender|age|hypertension|heart_disease|ever_married|work_type|Residence_type|avg_glucose_level|bmi|smoking_status|stroke|\n",
      "+---+------+---+------------+-------------+------------+---------+--------------+-----------------+---+--------------+------+\n",
      "|  0|     0|  0|           0|            0|           0|        0|             0|                0|201|          1544|     0|\n",
      "+---+------+---+------------+-------------+------------+---------+--------------+-----------------+---+--------------+------+\n",
      "\n",
      "+-----+------+----+------------+-------------+------------+-------------+--------------+-----------------+------+\n",
      "|   id|gender| age|hypertension|heart_disease|ever_married|    work_type|Residence_type|avg_glucose_level|stroke|\n",
      "+-----+------+----+------------+-------------+------------+-------------+--------------+-----------------+------+\n",
      "| 9046|  Male|67.0|           0|            1|         Yes|      Private|         Urban|           228.69|     1|\n",
      "|51676|Female|61.0|           0|            0|         Yes|Self-employed|         Rural|           202.21|     1|\n",
      "|31112|  Male|80.0|           0|            1|         Yes|      Private|         Rural|           105.92|     1|\n",
      "|60182|Female|49.0|           0|            0|         Yes|      Private|         Urban|           171.23|     1|\n",
      "| 1665|Female|79.0|           1|            0|         Yes|Self-employed|         Rural|           174.12|     1|\n",
      "|56669|  Male|81.0|           0|            0|         Yes|      Private|         Urban|           186.21|     1|\n",
      "|53882|  Male|74.0|           1|            1|         Yes|      Private|         Rural|            70.09|     1|\n",
      "|10434|Female|69.0|           0|            0|          No|      Private|         Urban|            94.39|     1|\n",
      "|27419|Female|59.0|           0|            0|         Yes|      Private|         Rural|            76.15|     1|\n",
      "|60491|Female|78.0|           0|            0|         Yes|      Private|         Urban|            58.57|     1|\n",
      "|12109|Female|81.0|           1|            0|         Yes|      Private|         Rural|            80.43|     1|\n",
      "|12095|Female|61.0|           0|            1|         Yes|     Govt_job|         Rural|           120.46|     1|\n",
      "|12175|Female|54.0|           0|            0|         Yes|      Private|         Urban|           104.51|     1|\n",
      "| 8213|  Male|78.0|           0|            1|         Yes|      Private|         Urban|           219.84|     1|\n",
      "| 5317|Female|79.0|           0|            1|         Yes|      Private|         Urban|           214.09|     1|\n",
      "|58202|Female|50.0|           1|            0|         Yes|Self-employed|         Rural|           167.41|     1|\n",
      "|56112|  Male|64.0|           0|            1|         Yes|      Private|         Urban|           191.61|     1|\n",
      "|34120|  Male|75.0|           1|            0|         Yes|      Private|         Urban|           221.29|     1|\n",
      "|27458|Female|60.0|           0|            0|          No|      Private|         Urban|            89.22|     1|\n",
      "|25226|  Male|57.0|           0|            1|          No|     Govt_job|         Urban|           217.08|     1|\n",
      "+-----+------+----+------------+-------------+------------+-------------+--------------+-----------------+------+\n",
      "only showing top 20 rows\n",
      "\n"
     ]
    }
   ],
   "source": [
    "#remove columns with missing values\n",
    "\n",
    "find_na = df.select([F.count(F.when(F.isnan(i) | \\\n",
    "                                   F.col(i).contains('N/A') | \\\n",
    "                                   F.col(i).contains('Unknown') | \\\n",
    "                                   F.col(i).isNull(), i)).alias(i) \\\n",
    "                    for i in df.columns])\n",
    "find_na.show()\n",
    "\n",
    "\n",
    "dropped = df.select([col for col in  df.columns if col not in ['bmi','smoking_status']])\n",
    "\n",
    "\n",
    "\n",
    "dropped.show()"
   ]
  },
  {
   "cell_type": "code",
   "execution_count": 6,
   "metadata": {},
   "outputs": [
    {
     "output_type": "stream",
     "name": "stdout",
     "text": [
      "+-----+------+----+------------+-------------+------------+-------------+--------------+-----------------+-----+------+\n|   id|gender| age|hypertension|heart_disease|ever_married|    work_type|Residence_type|avg_glucose_level|  bmi|stroke|\n+-----+------+----+------------+-------------+------------+-------------+--------------+-----------------+-----+------+\n| 9046|  Male|67.0|           0|            1|         Yes|      Private|         Urban|           228.69| 36.6|     1|\n|51676|Female|61.0|           0|            0|         Yes|Self-employed|         Rural|           202.21|28.89|     1|\n|31112|  Male|80.0|           0|            1|         Yes|      Private|         Rural|           105.92| 32.5|     1|\n|60182|Female|49.0|           0|            0|         Yes|      Private|         Urban|           171.23| 34.4|     1|\n| 1665|Female|79.0|           1|            0|         Yes|Self-employed|         Rural|           174.12|   24|     1|\n|56669|  Male|81.0|           0|            0|         Yes|      Private|         Urban|           186.21|   29|     1|\n|53882|  Male|74.0|           1|            1|         Yes|      Private|         Rural|            70.09| 27.4|     1|\n|10434|Female|69.0|           0|            0|          No|      Private|         Urban|            94.39| 22.8|     1|\n|27419|Female|59.0|           0|            0|         Yes|      Private|         Rural|            76.15|28.89|     1|\n|60491|Female|78.0|           0|            0|         Yes|      Private|         Urban|            58.57| 24.2|     1|\n|12109|Female|81.0|           1|            0|         Yes|      Private|         Rural|            80.43| 29.7|     1|\n|12095|Female|61.0|           0|            1|         Yes|     Govt_job|         Rural|           120.46| 36.8|     1|\n|12175|Female|54.0|           0|            0|         Yes|      Private|         Urban|           104.51| 27.3|     1|\n| 8213|  Male|78.0|           0|            1|         Yes|      Private|         Urban|           219.84|28.89|     1|\n| 5317|Female|79.0|           0|            1|         Yes|      Private|         Urban|           214.09| 28.2|     1|\n|58202|Female|50.0|           1|            0|         Yes|Self-employed|         Rural|           167.41| 30.9|     1|\n|56112|  Male|64.0|           0|            1|         Yes|      Private|         Urban|           191.61| 37.5|     1|\n|34120|  Male|75.0|           1|            0|         Yes|      Private|         Urban|           221.29| 25.8|     1|\n|27458|Female|60.0|           0|            0|          No|      Private|         Urban|            89.22| 37.8|     1|\n|25226|  Male|57.0|           0|            1|          No|     Govt_job|         Urban|           217.08|28.89|     1|\n+-----+------+----+------------+-------------+------------+-------------+--------------+-----------------+-----+------+\nonly showing top 20 rows\n\n"
     ]
    }
   ],
   "source": [
    "#complete missing values with avg of the column \n",
    "\n",
    "#bmi\n",
    "bmi_avg = str(round(df.agg({'bmi': 'avg'}).collect()[0][0],2))\n",
    "df = df.drop('smoking_status').na.replace(['N/A'],[bmi_avg])\n",
    "df.show()"
   ]
  },
  {
   "cell_type": "code",
   "execution_count": null,
   "metadata": {},
   "outputs": [],
   "source": []
  }
 ]
}